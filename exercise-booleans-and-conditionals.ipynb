{
 "cells": [
  {
   "cell_type": "markdown",
   "id": "6ba2a2f7",
   "metadata": {
    "papermill": {
     "duration": 0.022345,
     "end_time": "2021-12-30T17:29:32.843892",
     "exception": false,
     "start_time": "2021-12-30T17:29:32.821547",
     "status": "completed"
    },
    "tags": []
   },
   "source": [
    "**This notebook is an exercise in the [Python](https://www.kaggle.com/learn/python) course.  You can reference the tutorial at [this link](https://www.kaggle.com/colinmorris/booleans-and-conditionals).**\n",
    "\n",
    "---\n"
   ]
  },
  {
   "cell_type": "markdown",
   "id": "d901d190",
   "metadata": {
    "papermill": {
     "duration": 0.02104,
     "end_time": "2021-12-30T17:29:32.886238",
     "exception": false,
     "start_time": "2021-12-30T17:29:32.865198",
     "status": "completed"
    },
    "tags": []
   },
   "source": [
    "In this exercise, you'll put to work what you have learned about booleans and conditionals.\n",
    "\n",
    "To get started, **run the setup code below** before writing your own code (and if you leave this notebook and come back later, don't forget to run the setup code again)."
   ]
  },
  {
   "cell_type": "code",
   "execution_count": 1,
   "id": "eab97f3d",
   "metadata": {
    "execution": {
     "iopub.execute_input": "2021-12-30T17:29:32.936613Z",
     "iopub.status.busy": "2021-12-30T17:29:32.936051Z",
     "iopub.status.idle": "2021-12-30T17:29:32.979201Z",
     "shell.execute_reply": "2021-12-30T17:29:32.978595Z",
     "shell.execute_reply.started": "2021-12-30T16:32:34.049068Z"
    },
    "papermill": {
     "duration": 0.071906,
     "end_time": "2021-12-30T17:29:32.979406",
     "exception": false,
     "start_time": "2021-12-30T17:29:32.907500",
     "status": "completed"
    },
    "tags": []
   },
   "outputs": [
    {
     "name": "stdout",
     "output_type": "stream",
     "text": [
      "Setup complete.\n"
     ]
    }
   ],
   "source": [
    "from learntools.core import binder; binder.bind(globals())\n",
    "from learntools.python.ex3 import *\n",
    "print('Setup complete.')"
   ]
  },
  {
   "cell_type": "markdown",
   "id": "67011215",
   "metadata": {
    "papermill": {
     "duration": 0.020882,
     "end_time": "2021-12-30T17:29:33.022335",
     "exception": false,
     "start_time": "2021-12-30T17:29:33.001453",
     "status": "completed"
    },
    "tags": []
   },
   "source": [
    "# 1.\n",
    "\n",
    "Many programming languages have [`sign`](https://en.wikipedia.org/wiki/Sign_function) available as a built-in function. Python doesn't, but we can define our own!\n",
    "\n",
    "In the cell below, define a function called `sign` which takes a numerical argument and returns -1 if it's negative, 1 if it's positive, and 0 if it's 0."
   ]
  },
  {
   "cell_type": "code",
   "execution_count": 2,
   "id": "9eee956a",
   "metadata": {
    "execution": {
     "iopub.execute_input": "2021-12-30T17:29:33.072665Z",
     "iopub.status.busy": "2021-12-30T17:29:33.067675Z",
     "iopub.status.idle": "2021-12-30T17:29:33.076907Z",
     "shell.execute_reply": "2021-12-30T17:29:33.077361Z",
     "shell.execute_reply.started": "2021-12-30T16:33:56.562009Z"
    },
    "papermill": {
     "duration": 0.033242,
     "end_time": "2021-12-30T17:29:33.077534",
     "exception": false,
     "start_time": "2021-12-30T17:29:33.044292",
     "status": "completed"
    },
    "tags": []
   },
   "outputs": [
    {
     "data": {
      "application/javascript": [
       "parent.postMessage({\"jupyterEvent\": \"custom.exercise_interaction\", \"data\": {\"outcomeType\": 1, \"valueTowardsCompletion\": 0.2, \"interactionType\": 1, \"questionType\": 2, \"questionId\": \"1_SignFunctionProblem\", \"learnToolsVersion\": \"0.3.4\", \"failureMessage\": \"\", \"exceptionClass\": \"\", \"trace\": \"\"}}, \"*\")"
      ],
      "text/plain": [
       "<IPython.core.display.Javascript object>"
      ]
     },
     "metadata": {},
     "output_type": "display_data"
    },
    {
     "data": {
      "text/markdown": [
       "<span style=\"color:#33cc33\">Correct</span>"
      ],
      "text/plain": [
       "Correct"
      ]
     },
     "metadata": {},
     "output_type": "display_data"
    }
   ],
   "source": [
    "def sign(x):\n",
    "    if x<0:\n",
    "        return -1\n",
    "    elif x>0:\n",
    "        return 1\n",
    "    return 0\n",
    "\n",
    "# Check your answer\n",
    "q1.check()"
   ]
  },
  {
   "cell_type": "code",
   "execution_count": 3,
   "id": "63da6709",
   "metadata": {
    "execution": {
     "iopub.execute_input": "2021-12-30T17:29:33.128759Z",
     "iopub.status.busy": "2021-12-30T17:29:33.127889Z",
     "iopub.status.idle": "2021-12-30T17:29:33.131750Z",
     "shell.execute_reply": "2021-12-30T17:29:33.132384Z"
    },
    "papermill": {
     "duration": 0.032182,
     "end_time": "2021-12-30T17:29:33.132550",
     "exception": false,
     "start_time": "2021-12-30T17:29:33.100368",
     "status": "completed"
    },
    "tags": []
   },
   "outputs": [],
   "source": [
    "#q1.solution()"
   ]
  },
  {
   "cell_type": "markdown",
   "id": "b65f0095",
   "metadata": {
    "papermill": {
     "duration": 0.02334,
     "end_time": "2021-12-30T17:29:33.186969",
     "exception": false,
     "start_time": "2021-12-30T17:29:33.163629",
     "status": "completed"
    },
    "tags": []
   },
   "source": [
    "# 2.\n",
    "\n",
    "We've decided to add \"logging\" to our `to_smash` function from the previous exercise."
   ]
  },
  {
   "cell_type": "code",
   "execution_count": 4,
   "id": "605427d5",
   "metadata": {
    "execution": {
     "iopub.execute_input": "2021-12-30T17:29:33.236758Z",
     "iopub.status.busy": "2021-12-30T17:29:33.236089Z",
     "iopub.status.idle": "2021-12-30T17:29:33.243479Z",
     "shell.execute_reply": "2021-12-30T17:29:33.244009Z",
     "shell.execute_reply.started": "2021-12-30T16:34:38.070589Z"
    },
    "papermill": {
     "duration": 0.035109,
     "end_time": "2021-12-30T17:29:33.244167",
     "exception": false,
     "start_time": "2021-12-30T17:29:33.209058",
     "status": "completed"
    },
    "tags": []
   },
   "outputs": [
    {
     "name": "stdout",
     "output_type": "stream",
     "text": [
      "Splitting 91 candies\n"
     ]
    },
    {
     "data": {
      "text/plain": [
       "1"
      ]
     },
     "execution_count": 4,
     "metadata": {},
     "output_type": "execute_result"
    }
   ],
   "source": [
    "def to_smash(total_candies):\n",
    "    \"\"\"Return the number of leftover candies that must be smashed after distributing\n",
    "    the given number of candies evenly between 3 friends.\n",
    "    \n",
    "    >>> to_smash(91)\n",
    "    1\n",
    "    \"\"\"\n",
    "    print(\"Splitting\", total_candies, \"candies\")\n",
    "    return total_candies % 3\n",
    "\n",
    "to_smash(91)"
   ]
  },
  {
   "cell_type": "markdown",
   "id": "1360c4ce",
   "metadata": {
    "papermill": {
     "duration": 0.022014,
     "end_time": "2021-12-30T17:29:33.288501",
     "exception": false,
     "start_time": "2021-12-30T17:29:33.266487",
     "status": "completed"
    },
    "tags": []
   },
   "source": [
    "What happens if we call it with `total_candies = 1`?"
   ]
  },
  {
   "cell_type": "code",
   "execution_count": 5,
   "id": "5f975966",
   "metadata": {
    "execution": {
     "iopub.execute_input": "2021-12-30T17:29:33.336373Z",
     "iopub.status.busy": "2021-12-30T17:29:33.335436Z",
     "iopub.status.idle": "2021-12-30T17:29:33.342737Z",
     "shell.execute_reply": "2021-12-30T17:29:33.343339Z",
     "shell.execute_reply.started": "2021-12-30T16:34:51.439772Z"
    },
    "papermill": {
     "duration": 0.032851,
     "end_time": "2021-12-30T17:29:33.343557",
     "exception": false,
     "start_time": "2021-12-30T17:29:33.310706",
     "status": "completed"
    },
    "tags": []
   },
   "outputs": [
    {
     "name": "stdout",
     "output_type": "stream",
     "text": [
      "Splitting 1 candies\n"
     ]
    },
    {
     "data": {
      "text/plain": [
       "1"
      ]
     },
     "execution_count": 5,
     "metadata": {},
     "output_type": "execute_result"
    }
   ],
   "source": [
    "to_smash(1)"
   ]
  },
  {
   "cell_type": "markdown",
   "id": "c3d5e865",
   "metadata": {
    "papermill": {
     "duration": 0.022276,
     "end_time": "2021-12-30T17:29:33.388797",
     "exception": false,
     "start_time": "2021-12-30T17:29:33.366521",
     "status": "completed"
    },
    "tags": []
   },
   "source": [
    "That isn't great grammar!\n",
    "\n",
    "Modify the definition in the cell below to correct the grammar of our print statement. (If there's only one candy, we should use the singular \"candy\" instead of the plural \"candies\")"
   ]
  },
  {
   "cell_type": "code",
   "execution_count": 6,
   "id": "b5410df7",
   "metadata": {
    "execution": {
     "iopub.execute_input": "2021-12-30T17:29:33.437446Z",
     "iopub.status.busy": "2021-12-30T17:29:33.436463Z",
     "iopub.status.idle": "2021-12-30T17:29:33.444145Z",
     "shell.execute_reply": "2021-12-30T17:29:33.444588Z",
     "shell.execute_reply.started": "2021-12-30T16:38:37.711600Z"
    },
    "papermill": {
     "duration": 0.033336,
     "end_time": "2021-12-30T17:29:33.444744",
     "exception": false,
     "start_time": "2021-12-30T17:29:33.411408",
     "status": "completed"
    },
    "tags": []
   },
   "outputs": [
    {
     "name": "stdout",
     "output_type": "stream",
     "text": [
      "Splitting 91 candies\n",
      "Splitting 1 candy\n"
     ]
    },
    {
     "data": {
      "text/plain": [
       "1"
      ]
     },
     "execution_count": 6,
     "metadata": {},
     "output_type": "execute_result"
    }
   ],
   "source": [
    "def to_smash(total_candies):\n",
    "    \"\"\"Return the number of leftover candies that must be smashed after distributing\n",
    "    the given number of candies evenly between 3 friends.\n",
    "    \n",
    "    >>> to_smash(91)\n",
    "    1\n",
    "    \"\"\"\n",
    "    if(total_candies > 1):\n",
    "        print(\"Splitting\", total_candies, \"candies\")\n",
    "    \n",
    "    else:\n",
    "        print(\"Splitting\", total_candies, \"candy\")\n",
    "    return total_candies % 3\n",
    "\n",
    "to_smash(91)\n",
    "to_smash(1)"
   ]
  },
  {
   "cell_type": "markdown",
   "id": "837d81db",
   "metadata": {
    "papermill": {
     "duration": 0.022892,
     "end_time": "2021-12-30T17:29:33.490718",
     "exception": false,
     "start_time": "2021-12-30T17:29:33.467826",
     "status": "completed"
    },
    "tags": []
   },
   "source": [
    "To get credit for completing this problem, and to see the official answer, run the code cell below."
   ]
  },
  {
   "cell_type": "code",
   "execution_count": 7,
   "id": "440053c1",
   "metadata": {
    "execution": {
     "iopub.execute_input": "2021-12-30T17:29:33.540358Z",
     "iopub.status.busy": "2021-12-30T17:29:33.539709Z",
     "iopub.status.idle": "2021-12-30T17:29:33.544889Z",
     "shell.execute_reply": "2021-12-30T17:29:33.545359Z",
     "shell.execute_reply.started": "2021-12-30T16:38:13.637573Z"
    },
    "papermill": {
     "duration": 0.031652,
     "end_time": "2021-12-30T17:29:33.545521",
     "exception": false,
     "start_time": "2021-12-30T17:29:33.513869",
     "status": "completed"
    },
    "tags": []
   },
   "outputs": [
    {
     "data": {
      "application/javascript": [
       "parent.postMessage({\"jupyterEvent\": \"custom.exercise_interaction\", \"data\": {\"interactionType\": 3, \"questionType\": 4, \"questionId\": \"2_PluralizationProblem\", \"learnToolsVersion\": \"0.3.4\", \"valueTowardsCompletion\": 0.0, \"failureMessage\": \"\", \"exceptionClass\": \"\", \"trace\": \"\", \"outcomeType\": 4}}, \"*\")"
      ],
      "text/plain": [
       "<IPython.core.display.Javascript object>"
      ]
     },
     "metadata": {},
     "output_type": "display_data"
    },
    {
     "data": {
      "text/markdown": [
       "<span style=\"color:#33cc99\">Solution:</span> A straightforward (and totally fine) solution is to replace the original `print` call with:\n",
       "\n",
       "```python\n",
       "if total_candies == 1:\n",
       "    print(\"Splitting 1 candy\")\n",
       "else:\n",
       "    print(\"Splitting\", total_candies, \"candies\")\n",
       "```\n",
       "\n",
       "Here's a slightly more succinct solution using a conditional expression:\n",
       "\n",
       "```python\n",
       "print(\"Splitting\", total_candies, \"candy\" if total_candies == 1 else \"candies\")\n",
       "```"
      ],
      "text/plain": [
       "Solution: A straightforward (and totally fine) solution is to replace the original `print` call with:\n",
       "\n",
       "```python\n",
       "if total_candies == 1:\n",
       "    print(\"Splitting 1 candy\")\n",
       "else:\n",
       "    print(\"Splitting\", total_candies, \"candies\")\n",
       "```\n",
       "\n",
       "Here's a slightly more succinct solution using a conditional expression:\n",
       "\n",
       "```python\n",
       "print(\"Splitting\", total_candies, \"candy\" if total_candies == 1 else \"candies\")\n",
       "```"
      ]
     },
     "metadata": {},
     "output_type": "display_data"
    }
   ],
   "source": [
    "# Check your answer (Run this code cell to receive credit!)\n",
    "q2.solution()"
   ]
  },
  {
   "cell_type": "markdown",
   "id": "487d3d5c",
   "metadata": {
    "papermill": {
     "duration": 0.033746,
     "end_time": "2021-12-30T17:29:33.605214",
     "exception": false,
     "start_time": "2021-12-30T17:29:33.571468",
     "status": "completed"
    },
    "tags": []
   },
   "source": [
    "# 3. <span title=\"A bit spicy\" style=\"color: darkgreen \">🌶️</span>\n",
    "\n",
    "In the tutorial, we talked about deciding whether we're prepared for the weather. I said that I'm safe from today's weather if...\n",
    "- I have an umbrella...\n",
    "- or if the rain isn't too heavy and I have a hood...\n",
    "- otherwise, I'm still fine unless it's raining *and* it's a workday\n",
    "\n",
    "The function below uses our first attempt at turning this logic into a Python expression. I claimed that there was a bug in that code. Can you find it?\n",
    "\n",
    "To prove that `prepared_for_weather` is buggy, come up with a set of inputs where either:\n",
    "- the function returns `False` (but should have returned `True`), or\n",
    "- the function returned `True` (but should have returned `False`).\n",
    "\n",
    "To get credit for completing this question, your code should return a <font color='#33cc33'>Correct</font> result."
   ]
  },
  {
   "cell_type": "code",
   "execution_count": 8,
   "id": "693ba2eb",
   "metadata": {
    "execution": {
     "iopub.execute_input": "2021-12-30T17:29:33.665710Z",
     "iopub.status.busy": "2021-12-30T17:29:33.664796Z",
     "iopub.status.idle": "2021-12-30T17:29:33.675170Z",
     "shell.execute_reply": "2021-12-30T17:29:33.675709Z",
     "shell.execute_reply.started": "2021-12-30T16:41:00.009612Z"
    },
    "papermill": {
     "duration": 0.042279,
     "end_time": "2021-12-30T17:29:33.675924",
     "exception": false,
     "start_time": "2021-12-30T17:29:33.633645",
     "status": "completed"
    },
    "tags": []
   },
   "outputs": [
    {
     "name": "stdout",
     "output_type": "stream",
     "text": [
      "False\n"
     ]
    },
    {
     "data": {
      "application/javascript": [
       "parent.postMessage({\"jupyterEvent\": \"custom.exercise_interaction\", \"data\": {\"outcomeType\": 1, \"valueTowardsCompletion\": 0.2, \"interactionType\": 1, \"questionType\": 1, \"questionId\": \"3_WeatherDebug\", \"learnToolsVersion\": \"0.3.4\", \"failureMessage\": \"\", \"exceptionClass\": \"\", \"trace\": \"\"}}, \"*\")"
      ],
      "text/plain": [
       "<IPython.core.display.Javascript object>"
      ]
     },
     "metadata": {},
     "output_type": "display_data"
    },
    {
     "data": {
      "text/markdown": [
       "<span style=\"color:#33cc33\">Correct:</span> \n",
       "\n",
       "One example of a failing test case is:\n",
       "\n",
       "```python\n",
       "have_umbrella = False\n",
       "rain_level = 0.0\n",
       "have_hood = False\n",
       "is_workday = False\n",
       "```\n",
       "\n",
       "Clearly we're prepared for the weather in this case. It's not raining. Not only that, it's not a workday, so we don't even need to leave the house! But our function will return False on these inputs.\n",
       "\n",
       "The key problem is that Python implictly parenthesizes the last part as:\n",
       "\n",
       "```python\n",
       "(not (rain_level > 0)) and is_workday\n",
       "```\n",
       "\n",
       "Whereas what we were trying to express would look more like:\n",
       "\n",
       "```python\n",
       "not (rain_level > 0 and is_workday)\n",
       "```\n"
      ],
      "text/plain": [
       "Correct: \n",
       "\n",
       "One example of a failing test case is:\n",
       "\n",
       "```python\n",
       "have_umbrella = False\n",
       "rain_level = 0.0\n",
       "have_hood = False\n",
       "is_workday = False\n",
       "```\n",
       "\n",
       "Clearly we're prepared for the weather in this case. It's not raining. Not only that, it's not a workday, so we don't even need to leave the house! But our function will return False on these inputs.\n",
       "\n",
       "The key problem is that Python implictly parenthesizes the last part as:\n",
       "\n",
       "```python\n",
       "(not (rain_level > 0)) and is_workday\n",
       "```\n",
       "\n",
       "Whereas what we were trying to express would look more like:\n",
       "\n",
       "```python\n",
       "not (rain_level > 0 and is_workday)\n",
       "```"
      ]
     },
     "metadata": {},
     "output_type": "display_data"
    }
   ],
   "source": [
    "def prepared_for_weather(have_umbrella, rain_level, have_hood, is_workday):\n",
    "    # Don't change this code. Our goal is just to find the bug, not fix it!\n",
    "    return have_umbrella or rain_level < 5 and have_hood or not rain_level > 0 and is_workday\n",
    "\n",
    "# Change the values of these inputs so they represent a case where prepared_for_weather\n",
    "# returns the wrong answer.\n",
    "have_umbrella = False\n",
    "rain_level = 6.0\n",
    "have_hood = False\n",
    "is_workday = False\n",
    "\n",
    "# Check what the function returns given the current values of the variables above\n",
    "actual = prepared_for_weather(have_umbrella, rain_level, have_hood, is_workday)\n",
    "print(actual)\n",
    "\n",
    "# Check your answer\n",
    "q3.check()"
   ]
  },
  {
   "cell_type": "code",
   "execution_count": 9,
   "id": "09c51a7c",
   "metadata": {
    "execution": {
     "iopub.execute_input": "2021-12-30T17:29:33.731063Z",
     "iopub.status.busy": "2021-12-30T17:29:33.730460Z",
     "iopub.status.idle": "2021-12-30T17:29:33.732869Z",
     "shell.execute_reply": "2021-12-30T17:29:33.733281Z"
    },
    "papermill": {
     "duration": 0.030832,
     "end_time": "2021-12-30T17:29:33.733467",
     "exception": false,
     "start_time": "2021-12-30T17:29:33.702635",
     "status": "completed"
    },
    "tags": []
   },
   "outputs": [],
   "source": [
    "#q3.hint()\n",
    "#q3.solution()"
   ]
  },
  {
   "cell_type": "markdown",
   "id": "c145fb3e",
   "metadata": {
    "papermill": {
     "duration": 0.024918,
     "end_time": "2021-12-30T17:29:33.783497",
     "exception": false,
     "start_time": "2021-12-30T17:29:33.758579",
     "status": "completed"
    },
    "tags": []
   },
   "source": [
    "# 4.\n",
    "\n",
    "The function `is_negative` below is implemented correctly - it returns True if the given number is negative and False otherwise.\n",
    "\n",
    "However, it's more verbose than it needs to be. We can actually reduce the number of lines of code in this function by *75%* while keeping the same behaviour. \n",
    "\n",
    "See if you can come up with an equivalent body that uses just **one line** of code, and put it in the function `concise_is_negative`. (HINT: you don't even need Python's ternary syntax)"
   ]
  },
  {
   "cell_type": "code",
   "execution_count": 10,
   "id": "c8cb708d",
   "metadata": {
    "execution": {
     "iopub.execute_input": "2021-12-30T17:29:33.836559Z",
     "iopub.status.busy": "2021-12-30T17:29:33.835969Z",
     "iopub.status.idle": "2021-12-30T17:29:33.841832Z",
     "shell.execute_reply": "2021-12-30T17:29:33.842244Z",
     "shell.execute_reply.started": "2021-12-30T16:45:04.170597Z"
    },
    "papermill": {
     "duration": 0.033826,
     "end_time": "2021-12-30T17:29:33.842431",
     "exception": false,
     "start_time": "2021-12-30T17:29:33.808605",
     "status": "completed"
    },
    "tags": []
   },
   "outputs": [
    {
     "data": {
      "application/javascript": [
       "parent.postMessage({\"jupyterEvent\": \"custom.exercise_interaction\", \"data\": {\"outcomeType\": 1, \"valueTowardsCompletion\": 0.2, \"interactionType\": 1, \"questionType\": 2, \"questionId\": \"4_ConciseIsNegative\", \"learnToolsVersion\": \"0.3.4\", \"failureMessage\": \"\", \"exceptionClass\": \"\", \"trace\": \"\"}}, \"*\")"
      ],
      "text/plain": [
       "<IPython.core.display.Javascript object>"
      ]
     },
     "metadata": {},
     "output_type": "display_data"
    },
    {
     "data": {
      "text/markdown": [
       "<span style=\"color:#33cc33\">Correct</span>"
      ],
      "text/plain": [
       "Correct"
      ]
     },
     "metadata": {},
     "output_type": "display_data"
    }
   ],
   "source": [
    "def is_negative(number):\n",
    "    if number < 0:\n",
    "        return True\n",
    "    else:\n",
    "        return False\n",
    "\n",
    "def concise_is_negative(number):\n",
    "    return True if number < 0 else False\n",
    "    pass \n",
    "\n",
    "# Check your answer\n",
    "q4.check()"
   ]
  },
  {
   "cell_type": "code",
   "execution_count": 11,
   "id": "a2af7844",
   "metadata": {
    "execution": {
     "iopub.execute_input": "2021-12-30T17:29:33.898501Z",
     "iopub.status.busy": "2021-12-30T17:29:33.897886Z",
     "iopub.status.idle": "2021-12-30T17:29:33.903413Z",
     "shell.execute_reply": "2021-12-30T17:29:33.903843Z",
     "shell.execute_reply.started": "2021-12-30T16:43:57.972580Z"
    },
    "papermill": {
     "duration": 0.034825,
     "end_time": "2021-12-30T17:29:33.904009",
     "exception": false,
     "start_time": "2021-12-30T17:29:33.869184",
     "status": "completed"
    },
    "tags": []
   },
   "outputs": [
    {
     "data": {
      "application/javascript": [
       "parent.postMessage({\"jupyterEvent\": \"custom.exercise_interaction\", \"data\": {\"interactionType\": 2, \"questionType\": 2, \"questionId\": \"4_ConciseIsNegative\", \"learnToolsVersion\": \"0.3.4\", \"valueTowardsCompletion\": 0.0, \"failureMessage\": \"\", \"exceptionClass\": \"\", \"trace\": \"\", \"outcomeType\": 4}}, \"*\")"
      ],
      "text/plain": [
       "<IPython.core.display.Javascript object>"
      ]
     },
     "metadata": {},
     "output_type": "display_data"
    },
    {
     "data": {
      "text/markdown": [
       "<span style=\"color:#3366cc\">Hint:</span> If the value of the expression `number < 0` is `True`, then we return `True`. If it's `False`, then we return `False`..."
      ],
      "text/plain": [
       "Hint: If the value of the expression `number < 0` is `True`, then we return `True`. If it's `False`, then we return `False`..."
      ]
     },
     "metadata": {},
     "output_type": "display_data"
    }
   ],
   "source": [
    "q4.hint()\n",
    "#q4.solution()"
   ]
  },
  {
   "cell_type": "markdown",
   "id": "6f049849",
   "metadata": {
    "papermill": {
     "duration": 0.026439,
     "end_time": "2021-12-30T17:29:33.957069",
     "exception": false,
     "start_time": "2021-12-30T17:29:33.930630",
     "status": "completed"
    },
    "tags": []
   },
   "source": [
    "# 5a.\n",
    "\n",
    "The boolean variables `ketchup`, `mustard` and `onion` represent whether a customer wants a particular topping on their hot dog. We want to implement a number of boolean functions that correspond to some yes-or-no questions about the customer's order. For example:"
   ]
  },
  {
   "cell_type": "code",
   "execution_count": 12,
   "id": "510fa978",
   "metadata": {
    "execution": {
     "iopub.execute_input": "2021-12-30T17:29:34.013188Z",
     "iopub.status.busy": "2021-12-30T17:29:34.012608Z",
     "iopub.status.idle": "2021-12-30T17:29:34.016958Z",
     "shell.execute_reply": "2021-12-30T17:29:34.016339Z",
     "shell.execute_reply.started": "2021-12-30T16:45:56.091935Z"
    },
    "papermill": {
     "duration": 0.03339,
     "end_time": "2021-12-30T17:29:34.017096",
     "exception": false,
     "start_time": "2021-12-30T17:29:33.983706",
     "status": "completed"
    },
    "tags": []
   },
   "outputs": [],
   "source": [
    "def onionless(ketchup, mustard, onion):\n",
    "    \"\"\"Return whether the customer doesn't want onions.\n",
    "    \"\"\"\n",
    "    return not onion"
   ]
  },
  {
   "cell_type": "code",
   "execution_count": 13,
   "id": "84b93112",
   "metadata": {
    "execution": {
     "iopub.execute_input": "2021-12-30T17:29:34.076997Z",
     "iopub.status.busy": "2021-12-30T17:29:34.076213Z",
     "iopub.status.idle": "2021-12-30T17:29:34.081449Z",
     "shell.execute_reply": "2021-12-30T17:29:34.080964Z",
     "shell.execute_reply.started": "2021-12-30T16:48:41.392385Z"
    },
    "papermill": {
     "duration": 0.037652,
     "end_time": "2021-12-30T17:29:34.081581",
     "exception": false,
     "start_time": "2021-12-30T17:29:34.043929",
     "status": "completed"
    },
    "tags": []
   },
   "outputs": [
    {
     "data": {
      "application/javascript": [
       "parent.postMessage({\"jupyterEvent\": \"custom.exercise_interaction\", \"data\": {\"outcomeType\": 1, \"valueTowardsCompletion\": 0.2, \"interactionType\": 1, \"questionType\": 2, \"questionId\": \"5.1_AllToppings\", \"learnToolsVersion\": \"0.3.4\", \"failureMessage\": \"\", \"exceptionClass\": \"\", \"trace\": \"\"}}, \"*\")"
      ],
      "text/plain": [
       "<IPython.core.display.Javascript object>"
      ]
     },
     "metadata": {},
     "output_type": "display_data"
    },
    {
     "data": {
      "text/markdown": [
       "<span style=\"color:#33cc33\">Correct</span>"
      ],
      "text/plain": [
       "Correct"
      ]
     },
     "metadata": {},
     "output_type": "display_data"
    }
   ],
   "source": [
    "def wants_all_toppings(ketchup, mustard, onion):\n",
    "    \"\"\"Return whether the customer wants \"the works\" (all 3 toppings)\n",
    "    \"\"\"\n",
    "    return ketchup and mustard and onion\n",
    "    pass\n",
    "\n",
    "# Check your answer\n",
    "q5.a.check()"
   ]
  },
  {
   "cell_type": "code",
   "execution_count": 14,
   "id": "7ff9610e",
   "metadata": {
    "execution": {
     "iopub.execute_input": "2021-12-30T17:29:34.141584Z",
     "iopub.status.busy": "2021-12-30T17:29:34.140693Z",
     "iopub.status.idle": "2021-12-30T17:29:34.149438Z",
     "shell.execute_reply": "2021-12-30T17:29:34.149883Z",
     "shell.execute_reply.started": "2021-12-30T16:48:23.868602Z"
    },
    "papermill": {
     "duration": 0.041205,
     "end_time": "2021-12-30T17:29:34.150041",
     "exception": false,
     "start_time": "2021-12-30T17:29:34.108836",
     "status": "completed"
    },
    "tags": []
   },
   "outputs": [
    {
     "data": {
      "application/javascript": [
       "parent.postMessage({\"jupyterEvent\": \"custom.exercise_interaction\", \"data\": {\"interactionType\": 2, \"questionType\": 2, \"questionId\": \"5.1_AllToppings\", \"learnToolsVersion\": \"0.3.4\", \"valueTowardsCompletion\": 0.0, \"failureMessage\": \"\", \"exceptionClass\": \"\", \"trace\": \"\", \"outcomeType\": 4}}, \"*\")"
      ],
      "text/plain": [
       "<IPython.core.display.Javascript object>"
      ]
     },
     "metadata": {},
     "output_type": "display_data"
    },
    {
     "data": {
      "text/markdown": [
       "<span style=\"color:#3366cc\">Hint:</span> You'll need to use the `and` operator."
      ],
      "text/plain": [
       "Hint: You'll need to use the `and` operator."
      ]
     },
     "metadata": {},
     "output_type": "display_data"
    },
    {
     "data": {
      "application/javascript": [
       "parent.postMessage({\"jupyterEvent\": \"custom.exercise_interaction\", \"data\": {\"interactionType\": 3, \"questionType\": 2, \"questionId\": \"5.1_AllToppings\", \"learnToolsVersion\": \"0.3.4\", \"valueTowardsCompletion\": 0.0, \"failureMessage\": \"\", \"exceptionClass\": \"\", \"trace\": \"\", \"outcomeType\": 4}}, \"*\")"
      ],
      "text/plain": [
       "<IPython.core.display.Javascript object>"
      ]
     },
     "metadata": {},
     "output_type": "display_data"
    },
    {
     "data": {
      "text/markdown": [
       "<span style=\"color:#33cc99\">Solution:</span> \n",
       "```python\n",
       "return ketchup and mustard and onion\n",
       "```"
      ],
      "text/plain": [
       "Solution: \n",
       "```python\n",
       "return ketchup and mustard and onion\n",
       "```"
      ]
     },
     "metadata": {},
     "output_type": "display_data"
    }
   ],
   "source": [
    "q5.a.hint()\n",
    "q5.a.solution()"
   ]
  },
  {
   "cell_type": "markdown",
   "id": "81b9a46c",
   "metadata": {
    "papermill": {
     "duration": 0.028617,
     "end_time": "2021-12-30T17:29:34.207467",
     "exception": false,
     "start_time": "2021-12-30T17:29:34.178850",
     "status": "completed"
    },
    "tags": []
   },
   "source": [
    "# 5b.\n",
    "\n",
    "For the next function, fill in the body to match the English description in the docstring. "
   ]
  },
  {
   "cell_type": "code",
   "execution_count": 15,
   "id": "a521523b",
   "metadata": {
    "execution": {
     "iopub.execute_input": "2021-12-30T17:29:34.271177Z",
     "iopub.status.busy": "2021-12-30T17:29:34.270292Z",
     "iopub.status.idle": "2021-12-30T17:29:34.275741Z",
     "shell.execute_reply": "2021-12-30T17:29:34.275236Z",
     "shell.execute_reply.started": "2021-12-30T16:49:36.197967Z"
    },
    "papermill": {
     "duration": 0.039618,
     "end_time": "2021-12-30T17:29:34.275900",
     "exception": false,
     "start_time": "2021-12-30T17:29:34.236282",
     "status": "completed"
    },
    "tags": []
   },
   "outputs": [
    {
     "data": {
      "application/javascript": [
       "parent.postMessage({\"jupyterEvent\": \"custom.exercise_interaction\", \"data\": {\"outcomeType\": 1, \"valueTowardsCompletion\": 0.2, \"interactionType\": 1, \"questionType\": 2, \"questionId\": \"5.2_PlainDog\", \"learnToolsVersion\": \"0.3.4\", \"failureMessage\": \"\", \"exceptionClass\": \"\", \"trace\": \"\"}}, \"*\")"
      ],
      "text/plain": [
       "<IPython.core.display.Javascript object>"
      ]
     },
     "metadata": {},
     "output_type": "display_data"
    },
    {
     "data": {
      "text/markdown": [
       "<span style=\"color:#33cc33\">Correct:</span> \n",
       "\n",
       "One solution looks like:\n",
       "```python\n",
       "return not ketchup and not mustard and not onion\n",
       "```\n",
       "\n",
       "We can also [\"factor out\" the nots](https://en.wikipedia.org/wiki/De_Morgan%27s_laws) to get:\n",
       "\n",
       "```python\n",
       "return not (ketchup or mustard or onion)\n",
       "```"
      ],
      "text/plain": [
       "Correct: \n",
       "\n",
       "One solution looks like:\n",
       "```python\n",
       "return not ketchup and not mustard and not onion\n",
       "```\n",
       "\n",
       "We can also [\"factor out\" the nots](https://en.wikipedia.org/wiki/De_Morgan%27s_laws) to get:\n",
       "\n",
       "```python\n",
       "return not (ketchup or mustard or onion)\n",
       "```"
      ]
     },
     "metadata": {},
     "output_type": "display_data"
    }
   ],
   "source": [
    "def wants_plain_hotdog(ketchup, mustard, onion):\n",
    "    \"\"\"Return whether the customer wants a plain hot dog with no toppings.\n",
    "    \"\"\"\n",
    "    return not ketchup and not mustard and not onion\n",
    "    pass\n",
    "\n",
    "# Check your answer\n",
    "q5.b.check()"
   ]
  },
  {
   "cell_type": "code",
   "execution_count": 16,
   "id": "99709a38",
   "metadata": {
    "execution": {
     "iopub.execute_input": "2021-12-30T17:29:34.340359Z",
     "iopub.status.busy": "2021-12-30T17:29:34.339504Z",
     "iopub.status.idle": "2021-12-30T17:29:34.342224Z",
     "shell.execute_reply": "2021-12-30T17:29:34.341669Z"
    },
    "papermill": {
     "duration": 0.03669,
     "end_time": "2021-12-30T17:29:34.342383",
     "exception": false,
     "start_time": "2021-12-30T17:29:34.305693",
     "status": "completed"
    },
    "tags": []
   },
   "outputs": [],
   "source": [
    "#q5.b.hint()\n",
    "#q5.b.solution()"
   ]
  },
  {
   "cell_type": "markdown",
   "id": "865349ca",
   "metadata": {
    "papermill": {
     "duration": 0.029362,
     "end_time": "2021-12-30T17:29:34.402359",
     "exception": false,
     "start_time": "2021-12-30T17:29:34.372997",
     "status": "completed"
    },
    "tags": []
   },
   "source": [
    "# 5c.\n",
    "\n",
    "You know what to do: for the next function, fill in the body to match the English description in the docstring."
   ]
  },
  {
   "cell_type": "code",
   "execution_count": 17,
   "id": "652d0637",
   "metadata": {
    "execution": {
     "iopub.execute_input": "2021-12-30T17:29:34.467242Z",
     "iopub.status.busy": "2021-12-30T17:29:34.466427Z",
     "iopub.status.idle": "2021-12-30T17:29:34.471360Z",
     "shell.execute_reply": "2021-12-30T17:29:34.470772Z",
     "shell.execute_reply.started": "2021-12-30T16:51:42.582858Z"
    },
    "papermill": {
     "duration": 0.039612,
     "end_time": "2021-12-30T17:29:34.471490",
     "exception": false,
     "start_time": "2021-12-30T17:29:34.431878",
     "status": "completed"
    },
    "tags": []
   },
   "outputs": [
    {
     "data": {
      "application/javascript": [
       "parent.postMessage({\"jupyterEvent\": \"custom.exercise_interaction\", \"data\": {\"outcomeType\": 1, \"valueTowardsCompletion\": 0.2, \"interactionType\": 1, \"questionType\": 2, \"questionId\": \"5.3_OneSauce\", \"learnToolsVersion\": \"0.3.4\", \"failureMessage\": \"\", \"exceptionClass\": \"\", \"trace\": \"\"}}, \"*\")"
      ],
      "text/plain": [
       "<IPython.core.display.Javascript object>"
      ]
     },
     "metadata": {},
     "output_type": "display_data"
    },
    {
     "data": {
      "text/markdown": [
       "<span style=\"color:#33cc33\">Correct</span>"
      ],
      "text/plain": [
       "Correct"
      ]
     },
     "metadata": {},
     "output_type": "display_data"
    }
   ],
   "source": [
    "def exactly_one_sauce(ketchup, mustard, onion):\n",
    "    \"\"\"Return whether the customer wants either ketchup or mustard, but not both.\n",
    "    (You may be familiar with this operation under the name \"exclusive or\")\n",
    "    \"\"\"\n",
    "    return onion and (ketchup ^ mustard)\n",
    "    pass\n",
    "\n",
    "# Check your answer\n",
    "q5.c.check()"
   ]
  },
  {
   "cell_type": "code",
   "execution_count": 18,
   "id": "50e87b1c",
   "metadata": {
    "execution": {
     "iopub.execute_input": "2021-12-30T17:29:34.536499Z",
     "iopub.status.busy": "2021-12-30T17:29:34.535698Z",
     "iopub.status.idle": "2021-12-30T17:29:34.538078Z",
     "shell.execute_reply": "2021-12-30T17:29:34.538532Z"
    },
    "papermill": {
     "duration": 0.036693,
     "end_time": "2021-12-30T17:29:34.538693",
     "exception": false,
     "start_time": "2021-12-30T17:29:34.502000",
     "status": "completed"
    },
    "tags": []
   },
   "outputs": [],
   "source": [
    "#q5.c.hint()\n",
    "#q5.c.solution()"
   ]
  },
  {
   "cell_type": "markdown",
   "id": "b264db27",
   "metadata": {
    "papermill": {
     "duration": 0.030353,
     "end_time": "2021-12-30T17:29:34.599441",
     "exception": false,
     "start_time": "2021-12-30T17:29:34.569088",
     "status": "completed"
    },
    "tags": []
   },
   "source": [
    "# 6. <span title=\"A bit spicy\" style=\"color: darkgreen \">🌶️</span>\n",
    "\n",
    "We’ve seen that calling `bool()` on an integer returns `False` if it’s equal to 0 and `True` otherwise. What happens if we call `int()` on a bool? Try it out in the notebook cell below.\n",
    "\n",
    "Can you take advantage of this to write a succinct function that corresponds to the English sentence \"does the customer want exactly one topping?\"?"
   ]
  },
  {
   "cell_type": "code",
   "execution_count": 19,
   "id": "06e32a7a",
   "metadata": {
    "execution": {
     "iopub.execute_input": "2021-12-30T17:29:34.665801Z",
     "iopub.status.busy": "2021-12-30T17:29:34.664842Z",
     "iopub.status.idle": "2021-12-30T17:29:34.669703Z",
     "shell.execute_reply": "2021-12-30T17:29:34.669171Z",
     "shell.execute_reply.started": "2021-12-30T16:56:10.585554Z"
    },
    "papermill": {
     "duration": 0.040063,
     "end_time": "2021-12-30T17:29:34.669835",
     "exception": false,
     "start_time": "2021-12-30T17:29:34.629772",
     "status": "completed"
    },
    "tags": []
   },
   "outputs": [
    {
     "data": {
      "application/javascript": [
       "parent.postMessage({\"jupyterEvent\": \"custom.exercise_interaction\", \"data\": {\"outcomeType\": 1, \"valueTowardsCompletion\": 0.2, \"interactionType\": 1, \"questionType\": 2, \"questionId\": \"6_OneTopping\", \"learnToolsVersion\": \"0.3.4\", \"failureMessage\": \"\", \"exceptionClass\": \"\", \"trace\": \"\"}}, \"*\")"
      ],
      "text/plain": [
       "<IPython.core.display.Javascript object>"
      ]
     },
     "metadata": {},
     "output_type": "display_data"
    },
    {
     "data": {
      "text/markdown": [
       "<span style=\"color:#33cc33\">Correct:</span> \n",
       "\n",
       "This condition would be pretty complicated to express using just `and`, `or` and `not`, but using boolean-to-integer conversion gives us this short solution:\n",
       "```python\n",
       "return (int(ketchup) + int(mustard) + int(onion)) == 1\n",
       "```\n",
       "\n",
       "Fun fact: we don't technically need to call `int` on the arguments. Just by doing addition with booleans, Python implicitly does the integer conversion. So we could also write...\n",
       "\n",
       "```python\n",
       "return (ketchup + mustard + onion) == 1\n",
       "```"
      ],
      "text/plain": [
       "Correct: \n",
       "\n",
       "This condition would be pretty complicated to express using just `and`, `or` and `not`, but using boolean-to-integer conversion gives us this short solution:\n",
       "```python\n",
       "return (int(ketchup) + int(mustard) + int(onion)) == 1\n",
       "```\n",
       "\n",
       "Fun fact: we don't technically need to call `int` on the arguments. Just by doing addition with booleans, Python implicitly does the integer conversion. So we could also write...\n",
       "\n",
       "```python\n",
       "return (ketchup + mustard + onion) == 1\n",
       "```"
      ]
     },
     "metadata": {},
     "output_type": "display_data"
    }
   ],
   "source": [
    "def exactly_one_topping(ketchup, mustard, onion):\n",
    "    \"\"\"Return whether the customer wants exactly one of the three available toppings\n",
    "    on their hot dog.\n",
    "    \"\"\"\n",
    "    return ketchup + mustard + onion == 1\n",
    "    pass\n",
    "\n",
    "# Check your answer\n",
    "q6.check()"
   ]
  },
  {
   "cell_type": "code",
   "execution_count": 20,
   "id": "fd8680fa",
   "metadata": {
    "execution": {
     "iopub.execute_input": "2021-12-30T17:29:34.743082Z",
     "iopub.status.busy": "2021-12-30T17:29:34.742120Z",
     "iopub.status.idle": "2021-12-30T17:29:34.755121Z",
     "shell.execute_reply": "2021-12-30T17:29:34.756035Z",
     "shell.execute_reply.started": "2021-12-30T16:55:29.050115Z"
    },
    "papermill": {
     "duration": 0.054853,
     "end_time": "2021-12-30T17:29:34.756277",
     "exception": false,
     "start_time": "2021-12-30T17:29:34.701424",
     "status": "completed"
    },
    "tags": []
   },
   "outputs": [
    {
     "data": {
      "application/javascript": [
       "parent.postMessage({\"jupyterEvent\": \"custom.exercise_interaction\", \"data\": {\"interactionType\": 2, \"questionType\": 2, \"questionId\": \"6_OneTopping\", \"learnToolsVersion\": \"0.3.4\", \"valueTowardsCompletion\": 0.0, \"failureMessage\": \"\", \"exceptionClass\": \"\", \"trace\": \"\", \"outcomeType\": 4}}, \"*\")"
      ],
      "text/plain": [
       "<IPython.core.display.Javascript object>"
      ]
     },
     "metadata": {},
     "output_type": "display_data"
    },
    {
     "data": {
      "text/markdown": [
       "<span style=\"color:#3366cc\">Hint:</span> You may have already found that `int(True)` is 1, and `int(False)` is 0. Think about what kinds of basic arithmetic operations you might want to perform on `ketchup`, `mustard`, and `onion` after converting them to integers."
      ],
      "text/plain": [
       "Hint: You may have already found that `int(True)` is 1, and `int(False)` is 0. Think about what kinds of basic arithmetic operations you might want to perform on `ketchup`, `mustard`, and `onion` after converting them to integers."
      ]
     },
     "metadata": {},
     "output_type": "display_data"
    },
    {
     "data": {
      "application/javascript": [
       "parent.postMessage({\"jupyterEvent\": \"custom.exercise_interaction\", \"data\": {\"interactionType\": 3, \"questionType\": 2, \"questionId\": \"6_OneTopping\", \"learnToolsVersion\": \"0.3.4\", \"valueTowardsCompletion\": 0.0, \"failureMessage\": \"\", \"exceptionClass\": \"\", \"trace\": \"\", \"outcomeType\": 4}}, \"*\")"
      ],
      "text/plain": [
       "<IPython.core.display.Javascript object>"
      ]
     },
     "metadata": {},
     "output_type": "display_data"
    },
    {
     "data": {
      "text/markdown": [
       "<span style=\"color:#33cc99\">Solution:</span> This condition would be pretty complicated to express using just `and`, `or` and `not`, but using boolean-to-integer conversion gives us this short solution:\n",
       "```python\n",
       "return (int(ketchup) + int(mustard) + int(onion)) == 1\n",
       "```\n",
       "\n",
       "Fun fact: we don't technically need to call `int` on the arguments. Just by doing addition with booleans, Python implicitly does the integer conversion. So we could also write...\n",
       "\n",
       "```python\n",
       "return (ketchup + mustard + onion) == 1\n",
       "```"
      ],
      "text/plain": [
       "Solution: This condition would be pretty complicated to express using just `and`, `or` and `not`, but using boolean-to-integer conversion gives us this short solution:\n",
       "```python\n",
       "return (int(ketchup) + int(mustard) + int(onion)) == 1\n",
       "```\n",
       "\n",
       "Fun fact: we don't technically need to call `int` on the arguments. Just by doing addition with booleans, Python implicitly does the integer conversion. So we could also write...\n",
       "\n",
       "```python\n",
       "return (ketchup + mustard + onion) == 1\n",
       "```"
      ]
     },
     "metadata": {},
     "output_type": "display_data"
    }
   ],
   "source": [
    "q6.hint()\n",
    "q6.solution()"
   ]
  },
  {
   "cell_type": "markdown",
   "id": "52af3da2",
   "metadata": {
    "papermill": {
     "duration": 0.034651,
     "end_time": "2021-12-30T17:29:34.835638",
     "exception": false,
     "start_time": "2021-12-30T17:29:34.800987",
     "status": "completed"
    },
    "tags": []
   },
   "source": [
    "# 7. <span title=\"A bit spicy\" style=\"color: darkgreen \">🌶️</span> (Optional)\n",
    "\n",
    "In this problem we'll be working with a simplified version of [blackjack](https://en.wikipedia.org/wiki/Blackjack) (aka twenty-one). In this version there is one player (who you'll control) and a dealer. Play proceeds as follows:\n",
    "\n",
    "- The player is dealt two face-up cards. The dealer is dealt one face-up card.\n",
    "- The player may ask to be dealt another card ('hit') as many times as they wish. If the sum of their cards exceeds 21, they lose the round immediately.\n",
    "- The dealer then deals additional cards to himself until either:\n",
    "    - the sum of the dealer's cards exceeds 21, in which case the player wins the round\n",
    "    - the sum of the dealer's cards is greater than or equal to 17. If the player's total is greater than the dealer's, the player wins. Otherwise, the dealer wins (even in case of a tie).\n",
    "    \n",
    "When calculating the sum of cards, Jack, Queen, and King count for 10. Aces can count as 1 or 11 (when referring to a player's \"total\" above, we mean the largest total that can be made without exceeding 21. So e.g. A+8 = 19, A+8+8 = 17)\n",
    "\n",
    "For this problem, you'll write a function representing the player's decision-making strategy in this game. We've provided a very unintelligent implementation below:"
   ]
  },
  {
   "cell_type": "code",
   "execution_count": 21,
   "id": "7af3d0ba",
   "metadata": {
    "execution": {
     "iopub.execute_input": "2021-12-30T17:29:34.907667Z",
     "iopub.status.busy": "2021-12-30T17:29:34.906898Z",
     "iopub.status.idle": "2021-12-30T17:29:34.909401Z",
     "shell.execute_reply": "2021-12-30T17:29:34.908915Z",
     "shell.execute_reply.started": "2021-12-30T17:17:25.962975Z"
    },
    "papermill": {
     "duration": 0.040255,
     "end_time": "2021-12-30T17:29:34.909543",
     "exception": false,
     "start_time": "2021-12-30T17:29:34.869288",
     "status": "completed"
    },
    "tags": []
   },
   "outputs": [],
   "source": [
    "def should_hit(dealer_total, player_total, player_low_aces, player_high_aces):\n",
    "    \"\"\"Return True if the player should hit (request another card) given the current game\n",
    "    state, or False if the player should stay.\n",
    "    When calculating a hand's total value, we count aces as \"high\" (with value 11) if doing so\n",
    "    doesn't bring the total above 21, otherwise we count them as low (with value 1). \n",
    "    For example, if the player's hand is {A, A, A, 7}, we will count it as 11 + 1 + 1 + 7,\n",
    "    and therefore set player_total=20, player_low_aces=2, player_high_aces=1.\n",
    "    \"\"\"\n",
    "    \n",
    "    if player_total < 16 and player_high_aces == 0:\n",
    "        return True\n",
    "    else:\n",
    "        return False\n"
   ]
  },
  {
   "cell_type": "markdown",
   "id": "92533708",
   "metadata": {
    "papermill": {
     "duration": 0.032571,
     "end_time": "2021-12-30T17:29:34.976269",
     "exception": false,
     "start_time": "2021-12-30T17:29:34.943698",
     "status": "completed"
    },
    "tags": []
   },
   "source": [
    "This very conservative agent *always* sticks with the hand of two cards that they're dealt.\n",
    "\n",
    "We'll be simulating games between your player agent and our own dealer agent by calling your function.\n",
    "\n",
    "Try running the function below to see an example of a simulated game:"
   ]
  },
  {
   "cell_type": "code",
   "execution_count": 22,
   "id": "fada07cc",
   "metadata": {
    "execution": {
     "iopub.execute_input": "2021-12-30T17:29:35.046706Z",
     "iopub.status.busy": "2021-12-30T17:29:35.046096Z",
     "iopub.status.idle": "2021-12-30T17:29:35.051847Z",
     "shell.execute_reply": "2021-12-30T17:29:35.051192Z",
     "shell.execute_reply.started": "2021-12-30T17:17:31.114974Z"
    },
    "papermill": {
     "duration": 0.042793,
     "end_time": "2021-12-30T17:29:35.052032",
     "exception": false,
     "start_time": "2021-12-30T17:29:35.009239",
     "status": "completed"
    },
    "tags": []
   },
   "outputs": [
    {
     "name": "stdout",
     "output_type": "stream",
     "text": [
      "Player starts with 2 and 10 (total = 12)\n",
      "Dealer starts with 10\n",
      "\n",
      "__Player's turn__\n",
      "Player hits and receives J. (total = 22)\n",
      "Player busts! Dealer wins.\n"
     ]
    }
   ],
   "source": [
    "q7.simulate_one_game()"
   ]
  },
  {
   "cell_type": "markdown",
   "id": "761d4397",
   "metadata": {
    "papermill": {
     "duration": 0.032776,
     "end_time": "2021-12-30T17:29:35.119567",
     "exception": false,
     "start_time": "2021-12-30T17:29:35.086791",
     "status": "completed"
    },
    "tags": []
   },
   "source": [
    "The real test of your agent's mettle is their average win rate over many games. Try calling the function below to simulate 50000 games of blackjack (it may take a couple seconds):"
   ]
  },
  {
   "cell_type": "code",
   "execution_count": 23,
   "id": "5f14375e",
   "metadata": {
    "execution": {
     "iopub.execute_input": "2021-12-30T17:29:35.189149Z",
     "iopub.status.busy": "2021-12-30T17:29:35.188267Z",
     "iopub.status.idle": "2021-12-30T17:29:36.518237Z",
     "shell.execute_reply": "2021-12-30T17:29:36.518889Z",
     "shell.execute_reply.started": "2021-12-30T17:18:17.851958Z"
    },
    "papermill": {
     "duration": 1.366582,
     "end_time": "2021-12-30T17:29:36.519128",
     "exception": false,
     "start_time": "2021-12-30T17:29:35.152546",
     "status": "completed"
    },
    "tags": []
   },
   "outputs": [
    {
     "name": "stdout",
     "output_type": "stream",
     "text": [
      "Player won 20520 out of 50000 games (win rate = 41.0%)\n"
     ]
    }
   ],
   "source": [
    "q7.simulate(n_games=50000)"
   ]
  },
  {
   "cell_type": "markdown",
   "id": "e47767ce",
   "metadata": {
    "papermill": {
     "duration": 0.032839,
     "end_time": "2021-12-30T17:29:36.586256",
     "exception": false,
     "start_time": "2021-12-30T17:29:36.553417",
     "status": "completed"
    },
    "tags": []
   },
   "source": [
    "Our dumb agent that completely ignores the game state still manages to win shockingly often!\n",
    "\n",
    "Try adding some more smarts to the `should_hit` function and see how it affects the results."
   ]
  },
  {
   "cell_type": "code",
   "execution_count": 24,
   "id": "ac56c364",
   "metadata": {
    "execution": {
     "iopub.execute_input": "2021-12-30T17:29:36.656499Z",
     "iopub.status.busy": "2021-12-30T17:29:36.655927Z",
     "iopub.status.idle": "2021-12-30T17:29:37.874505Z",
     "shell.execute_reply": "2021-12-30T17:29:37.874023Z"
    },
    "papermill": {
     "duration": 1.254606,
     "end_time": "2021-12-30T17:29:37.874649",
     "exception": false,
     "start_time": "2021-12-30T17:29:36.620043",
     "status": "completed"
    },
    "tags": []
   },
   "outputs": [
    {
     "name": "stdout",
     "output_type": "stream",
     "text": [
      "Player won 18973 out of 50000 games (win rate = 37.9%)\n"
     ]
    }
   ],
   "source": [
    "def should_hit(dealer_total, player_total, player_low_aces, player_high_aces):\n",
    "    \"\"\"Return True if the player should hit (request another card) given the current game\n",
    "    state, or False if the player should stay.\n",
    "    When calculating a hand's total value, we count aces as \"high\" (with value 11) if doing so\n",
    "    doesn't bring the total above 21, otherwise we count them as low (with value 1). \n",
    "    For example, if the player's hand is {A, A, A, 7}, we will count it as 11 + 1 + 1 + 7,\n",
    "    and therefore set player_total=20, player_low_aces=2, player_high_aces=1.\n",
    "    \"\"\"\n",
    "    return False\n",
    "\n",
    "q7.simulate(n_games=50000)"
   ]
  },
  {
   "cell_type": "markdown",
   "id": "a62d7eeb",
   "metadata": {
    "papermill": {
     "duration": 0.03491,
     "end_time": "2021-12-30T17:29:37.944940",
     "exception": false,
     "start_time": "2021-12-30T17:29:37.910030",
     "status": "completed"
    },
    "tags": []
   },
   "source": [
    "# Keep Going\n",
    "\n",
    "Learn about **[lists and tuples](https://www.kaggle.com/colinmorris/lists)** to handle multiple items of data in a systematic way."
   ]
  },
  {
   "cell_type": "markdown",
   "id": "b195a243",
   "metadata": {
    "papermill": {
     "duration": 0.033555,
     "end_time": "2021-12-30T17:29:38.012715",
     "exception": false,
     "start_time": "2021-12-30T17:29:37.979160",
     "status": "completed"
    },
    "tags": []
   },
   "source": [
    "---\n",
    "\n",
    "\n",
    "\n",
    "\n",
    "*Have questions or comments? Visit the [course discussion forum](https://www.kaggle.com/learn/python/discussion) to chat with other learners.*"
   ]
  }
 ],
 "metadata": {
  "kernelspec": {
   "display_name": "Python 3",
   "language": "python",
   "name": "python3"
  },
  "language_info": {
   "codemirror_mode": {
    "name": "ipython",
    "version": 3
   },
   "file_extension": ".py",
   "mimetype": "text/x-python",
   "name": "python",
   "nbconvert_exporter": "python",
   "pygments_lexer": "ipython3",
   "version": "3.7.12"
  },
  "papermill": {
   "default_parameters": {},
   "duration": 14.315227,
   "end_time": "2021-12-30T17:29:38.655711",
   "environment_variables": {},
   "exception": null,
   "input_path": "__notebook__.ipynb",
   "output_path": "__notebook__.ipynb",
   "parameters": {},
   "start_time": "2021-12-30T17:29:24.340484",
   "version": "2.3.3"
  }
 },
 "nbformat": 4,
 "nbformat_minor": 5
}
