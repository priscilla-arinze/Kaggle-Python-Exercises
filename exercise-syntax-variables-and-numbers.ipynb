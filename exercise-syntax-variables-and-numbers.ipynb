{
 "cells": [
  {
   "cell_type": "markdown",
   "id": "6b2355be",
   "metadata": {
    "papermill": {
     "duration": 0.025287,
     "end_time": "2021-12-26T00:01:40.213161",
     "exception": false,
     "start_time": "2021-12-26T00:01:40.187874",
     "status": "completed"
    },
    "tags": []
   },
   "source": [
    "**This notebook is an exercise in the [Python](https://www.kaggle.com/learn/python) course.  You can reference the tutorial at [this link](https://www.kaggle.com/colinmorris/hello-python).**\n",
    "\n",
    "---\n"
   ]
  },
  {
   "cell_type": "markdown",
   "id": "0b6cf9d8",
   "metadata": {
    "papermill": {
     "duration": 0.021198,
     "end_time": "2021-12-26T00:01:40.256125",
     "exception": false,
     "start_time": "2021-12-26T00:01:40.234927",
     "status": "completed"
    },
    "tags": []
   },
   "source": [
    "Welcome to your first set of Python coding problems.  If this is your first time using Kaggle Notebooks, welcome! \n",
    "\n",
    "Notebooks are composed of blocks (called \"cells\") of text and code. Each of these is editable, though you'll mainly be editing the code cells to answer some questions.\n",
    "\n",
    "To get started, try running the code cell below (by pressing the ► button, or clicking on the cell and pressing ctrl+enter on your keyboard)."
   ]
  },
  {
   "cell_type": "code",
   "execution_count": 1,
   "id": "689078d8",
   "metadata": {
    "execution": {
     "iopub.execute_input": "2021-12-26T00:01:40.310677Z",
     "iopub.status.busy": "2021-12-26T00:01:40.304161Z",
     "iopub.status.idle": "2021-12-26T00:01:40.317663Z",
     "shell.execute_reply": "2021-12-26T00:01:40.316785Z",
     "shell.execute_reply.started": "2021-12-25T23:45:25.153504Z"
    },
    "papermill": {
     "duration": 0.039931,
     "end_time": "2021-12-26T00:01:40.317853",
     "exception": false,
     "start_time": "2021-12-26T00:01:40.277922",
     "status": "completed"
    },
    "tags": []
   },
   "outputs": [
    {
     "name": "stdout",
     "output_type": "stream",
     "text": [
      "You've successfully run some Python code\n",
      "Congratulations!\n",
      "4\n"
     ]
    }
   ],
   "source": [
    "print(\"You've successfully run some Python code\")\n",
    "print(\"Congratulations!\")\n",
    "print(1+3)"
   ]
  },
  {
   "cell_type": "code",
   "execution_count": 2,
   "id": "c192e895",
   "metadata": {
    "execution": {
     "iopub.execute_input": "2021-12-26T00:01:40.374349Z",
     "iopub.status.busy": "2021-12-26T00:01:40.373098Z",
     "iopub.status.idle": "2021-12-26T00:01:40.377721Z",
     "shell.execute_reply": "2021-12-26T00:01:40.378282Z",
     "shell.execute_reply.started": "2021-12-25T23:45:55.294189Z"
    },
    "papermill": {
     "duration": 0.037714,
     "end_time": "2021-12-26T00:01:40.378495",
     "exception": false,
     "start_time": "2021-12-26T00:01:40.340781",
     "status": "completed"
    },
    "tags": []
   },
   "outputs": [
    {
     "data": {
      "text/plain": [
       "3"
      ]
     },
     "execution_count": 2,
     "metadata": {},
     "output_type": "execute_result"
    }
   ],
   "source": [
    "1+2"
   ]
  },
  {
   "cell_type": "markdown",
   "id": "872fd6af",
   "metadata": {
    "papermill": {
     "duration": 0.022397,
     "end_time": "2021-12-26T00:01:40.423893",
     "exception": false,
     "start_time": "2021-12-26T00:01:40.401496",
     "status": "completed"
    },
    "tags": []
   },
   "source": [
    "Try adding another line of code in the cell above and re-running it. \n",
    "\n",
    "Now let's get a little fancier:  Add a new code cell by clicking on an existing code cell, hitting the escape key, and then hitting the `a` or `b` key.  The `a` key will add a cell above the current cell, and `b` adds a cell below.\n",
    "\n",
    "Great! Now you know how to use Notebooks.\n",
    "\n",
    "Each hands-on exercise starts by setting up our feedback and code checking mechanism. Run the code cell below to do that. Then you'll be ready to move on to question 0."
   ]
  },
  {
   "cell_type": "code",
   "execution_count": 3,
   "id": "d176e767",
   "metadata": {
    "_kg_hide-input": true,
    "_kg_hide-output": true,
    "execution": {
     "iopub.execute_input": "2021-12-26T00:01:40.473228Z",
     "iopub.status.busy": "2021-12-26T00:01:40.472177Z",
     "iopub.status.idle": "2021-12-26T00:01:40.517256Z",
     "shell.execute_reply": "2021-12-26T00:01:40.517836Z",
     "shell.execute_reply.started": "2021-12-25T23:46:13.122985Z"
    },
    "papermill": {
     "duration": 0.071797,
     "end_time": "2021-12-26T00:01:40.518065",
     "exception": false,
     "start_time": "2021-12-26T00:01:40.446268",
     "status": "completed"
    },
    "tags": []
   },
   "outputs": [
    {
     "name": "stdout",
     "output_type": "stream",
     "text": [
      "Setup complete! You're ready to start question 0.\n"
     ]
    }
   ],
   "source": [
    "from learntools.core import binder; binder.bind(globals())\n",
    "from learntools.python.ex1 import *\n",
    "print(\"Setup complete! You're ready to start question 0.\")"
   ]
  },
  {
   "cell_type": "markdown",
   "id": "c24ad310",
   "metadata": {
    "papermill": {
     "duration": 0.02278,
     "end_time": "2021-12-26T00:01:40.564354",
     "exception": false,
     "start_time": "2021-12-26T00:01:40.541574",
     "status": "completed"
    },
    "tags": []
   },
   "source": [
    "# 0.\n",
    "\n",
    "*This is a silly question intended as an introduction to the format we use for hands-on exercises throughout all Kaggle courses.*\n",
    "\n",
    "**What is your favorite color? **\n",
    "\n",
    "To complete this question, create a variable called `color` in the cell below with an appropriate value. The function call `q0.check()` (which we've already provided in the cell below) will check your answer."
   ]
  },
  {
   "cell_type": "code",
   "execution_count": 4,
   "id": "acafad61",
   "metadata": {
    "execution": {
     "iopub.execute_input": "2021-12-26T00:01:40.616948Z",
     "iopub.status.busy": "2021-12-26T00:01:40.616256Z",
     "iopub.status.idle": "2021-12-26T00:01:40.624306Z",
     "shell.execute_reply": "2021-12-26T00:01:40.624876Z",
     "shell.execute_reply.started": "2021-12-25T23:46:58.942400Z"
    },
    "papermill": {
     "duration": 0.036216,
     "end_time": "2021-12-26T00:01:40.625092",
     "exception": false,
     "start_time": "2021-12-26T00:01:40.588876",
     "status": "completed"
    },
    "tags": []
   },
   "outputs": [
    {
     "data": {
      "application/javascript": [
       "parent.postMessage({\"jupyterEvent\": \"custom.exercise_interaction\", \"data\": {\"outcomeType\": 1, \"valueTowardsCompletion\": 0.25, \"interactionType\": 1, \"questionType\": 2, \"questionId\": \"0_ExerciseFormatTutorial\", \"learnToolsVersion\": \"0.3.4\", \"failureMessage\": \"\", \"exceptionClass\": \"\", \"trace\": \"\"}}, \"*\")"
      ],
      "text/plain": [
       "<IPython.core.display.Javascript object>"
      ]
     },
     "metadata": {},
     "output_type": "display_data"
    },
    {
     "data": {
      "text/markdown": [
       "<span style=\"color:#33cc33\">Correct:</span> What?! You got it right without needing a hint or anything? Drats. Well hey, you should still continue to the next step to get some practice asking for a hint and checking solutions. (Even though you obviously don't need any help here.)"
      ],
      "text/plain": [
       "Correct: What?! You got it right without needing a hint or anything? Drats. Well hey, you should still continue to the next step to get some practice asking for a hint and checking solutions. (Even though you obviously don't need any help here.)"
      ]
     },
     "metadata": {},
     "output_type": "display_data"
    }
   ],
   "source": [
    "# create a variable called color with an appropriate value on the line below\n",
    "# (Remember, strings in Python must be enclosed in 'single' or \"double\" quotes)\n",
    "\n",
    "color = \"blue\"\n",
    "____\n",
    "\n",
    "# Check your answer\n",
    "q0.check()"
   ]
  },
  {
   "cell_type": "markdown",
   "id": "3a5b088d",
   "metadata": {
    "papermill": {
     "duration": 0.022552,
     "end_time": "2021-12-26T00:01:40.671363",
     "exception": false,
     "start_time": "2021-12-26T00:01:40.648811",
     "status": "completed"
    },
    "tags": []
   },
   "source": [
    "Didn't get the right answer? How do you not even know your own favorite color?!\n",
    "\n",
    "Delete the `#` in the line below to make one of the lines run. You can choose between getting a hint or the full answer by choosing which line to remove the `#` from. \n",
    "\n",
    "Removing the `#` is called uncommenting, because it changes that line from a \"comment\" which Python doesn't run to code, which Python does run."
   ]
  },
  {
   "cell_type": "code",
   "execution_count": 5,
   "id": "74a78523",
   "metadata": {
    "execution": {
     "iopub.execute_input": "2021-12-26T00:01:40.725506Z",
     "iopub.status.busy": "2021-12-26T00:01:40.724755Z",
     "iopub.status.idle": "2021-12-26T00:01:40.734554Z",
     "shell.execute_reply": "2021-12-26T00:01:40.735121Z",
     "shell.execute_reply.started": "2021-12-25T23:47:38.311346Z"
    },
    "papermill": {
     "duration": 0.040511,
     "end_time": "2021-12-26T00:01:40.735314",
     "exception": false,
     "start_time": "2021-12-26T00:01:40.694803",
     "status": "completed"
    },
    "tags": []
   },
   "outputs": [
    {
     "data": {
      "application/javascript": [
       "parent.postMessage({\"jupyterEvent\": \"custom.exercise_interaction\", \"data\": {\"interactionType\": 2, \"questionType\": 2, \"questionId\": \"0_ExerciseFormatTutorial\", \"learnToolsVersion\": \"0.3.4\", \"valueTowardsCompletion\": 0.0, \"failureMessage\": \"\", \"exceptionClass\": \"\", \"trace\": \"\", \"outcomeType\": 4}}, \"*\")"
      ],
      "text/plain": [
       "<IPython.core.display.Javascript object>"
      ]
     },
     "metadata": {},
     "output_type": "display_data"
    },
    {
     "data": {
      "text/markdown": [
       "<span style=\"color:#3366cc\">Hint:</span> Your favorite color rhymes with *glue*."
      ],
      "text/plain": [
       "Hint: Your favorite color rhymes with *glue*."
      ]
     },
     "metadata": {},
     "output_type": "display_data"
    },
    {
     "data": {
      "application/javascript": [
       "parent.postMessage({\"jupyterEvent\": \"custom.exercise_interaction\", \"data\": {\"interactionType\": 3, \"questionType\": 2, \"questionId\": \"0_ExerciseFormatTutorial\", \"learnToolsVersion\": \"0.3.4\", \"valueTowardsCompletion\": 0.0, \"failureMessage\": \"\", \"exceptionClass\": \"\", \"trace\": \"\", \"outcomeType\": 4}}, \"*\")"
      ],
      "text/plain": [
       "<IPython.core.display.Javascript object>"
      ]
     },
     "metadata": {},
     "output_type": "display_data"
    },
    {
     "data": {
      "text/markdown": [
       "<span style=\"color:#33cc99\">Solution:</span> \n",
       "```python\n",
       "color = \"blue\"\n",
       "```"
      ],
      "text/plain": [
       "Solution: \n",
       "```python\n",
       "color = \"blue\"\n",
       "```"
      ]
     },
     "metadata": {},
     "output_type": "display_data"
    }
   ],
   "source": [
    "q0.hint()\n",
    "q0.solution()"
   ]
  },
  {
   "cell_type": "markdown",
   "id": "6d19f8b6",
   "metadata": {
    "papermill": {
     "duration": 0.026187,
     "end_time": "2021-12-26T00:01:40.787134",
     "exception": false,
     "start_time": "2021-12-26T00:01:40.760947",
     "status": "completed"
    },
    "tags": []
   },
   "source": [
    "The upcoming questions work the same way. The only thing that will change are the question numbers. For the next question, you'll call `q1.check()`, `q1.hint()`, `q1.solution()`, for question 2, you'll call `q2.check()`, and so on."
   ]
  },
  {
   "cell_type": "markdown",
   "id": "0301289b",
   "metadata": {
    "papermill": {
     "duration": 0.026378,
     "end_time": "2021-12-26T00:01:40.840498",
     "exception": false,
     "start_time": "2021-12-26T00:01:40.814120",
     "status": "completed"
    },
    "tags": []
   },
   "source": [
    "<hr/>\n",
    "\n",
    "# 1.\n",
    "\n",
    "Complete the code below. In case it's helpful, here is the table of available arithmetic operations:\n",
    "\n",
    "\n",
    "\n",
    "| Operator     | Name           | Description                                            |\n",
    "|--------------|----------------|--------------------------------------------------------|\n",
    "| ``a + b``    | Addition       | Sum of ``a`` and ``b``                                 |\n",
    "| ``a - b``    | Subtraction    | Difference of ``a`` and ``b``                          |\n",
    "| ``a * b``    | Multiplication | Product of ``a`` and ``b``                             |\n",
    "| ``a / b``    | True division  | Quotient of ``a`` and ``b``                            |\n",
    "| ``a // b``   | Floor division | Quotient of ``a`` and ``b``, removing fractional parts |\n",
    "| ``a % b``    | Modulus        | Integer remainder after division of ``a`` by ``b``     |\n",
    "| ``a ** b``   | Exponentiation | ``a`` raised to the power of ``b``                     |\n",
    "| ``-a``       | Negation       | The negative of ``a``                                  |\n",
    "\n",
    "<span style=\"display:none\"></span>\n"
   ]
  },
  {
   "cell_type": "code",
   "execution_count": 6,
   "id": "1dd76f61",
   "metadata": {
    "execution": {
     "iopub.execute_input": "2021-12-26T00:01:40.900878Z",
     "iopub.status.busy": "2021-12-26T00:01:40.900049Z",
     "iopub.status.idle": "2021-12-26T00:01:40.904647Z",
     "shell.execute_reply": "2021-12-26T00:01:40.905252Z",
     "shell.execute_reply.started": "2021-12-25T23:48:50.025054Z"
    },
    "papermill": {
     "duration": 0.036969,
     "end_time": "2021-12-26T00:01:40.905457",
     "exception": false,
     "start_time": "2021-12-26T00:01:40.868488",
     "status": "completed"
    },
    "tags": []
   },
   "outputs": [
    {
     "data": {
      "application/javascript": [
       "parent.postMessage({\"jupyterEvent\": \"custom.exercise_interaction\", \"data\": {\"outcomeType\": 1, \"valueTowardsCompletion\": 0.25, \"interactionType\": 1, \"questionType\": 1, \"questionId\": \"1_CircleArea\", \"learnToolsVersion\": \"0.3.4\", \"failureMessage\": \"\", \"exceptionClass\": \"\", \"trace\": \"\"}}, \"*\")"
      ],
      "text/plain": [
       "<IPython.core.display.Javascript object>"
      ]
     },
     "metadata": {},
     "output_type": "display_data"
    },
    {
     "data": {
      "text/markdown": [
       "<span style=\"color:#33cc33\">Correct</span>"
      ],
      "text/plain": [
       "Correct"
      ]
     },
     "metadata": {},
     "output_type": "display_data"
    }
   ],
   "source": [
    "pi = 3.14159 # approximate\n",
    "diameter = 3\n",
    "\n",
    "# Create a variable called 'radius' equal to half the diameter\n",
    "radius = diameter / 2\n",
    "____\n",
    "\n",
    "# Create a variable called 'area', using the formula for the area of a circle: pi times the radius squared\n",
    "area = pi * (radius ** 2)\n",
    "____\n",
    "\n",
    "# Check your answer\n",
    "q1.check()"
   ]
  },
  {
   "cell_type": "code",
   "execution_count": 7,
   "id": "c89cc440",
   "metadata": {
    "execution": {
     "iopub.execute_input": "2021-12-26T00:01:40.967328Z",
     "iopub.status.busy": "2021-12-26T00:01:40.966521Z",
     "iopub.status.idle": "2021-12-26T00:01:40.969523Z",
     "shell.execute_reply": "2021-12-26T00:01:40.970074Z"
    },
    "papermill": {
     "duration": 0.035065,
     "end_time": "2021-12-26T00:01:40.970277",
     "exception": false,
     "start_time": "2021-12-26T00:01:40.935212",
     "status": "completed"
    },
    "tags": []
   },
   "outputs": [],
   "source": [
    "# Uncomment and run the lines below if you need help.\n",
    "#q1.hint()\n",
    "#q1.solution()"
   ]
  },
  {
   "cell_type": "markdown",
   "id": "e396af46",
   "metadata": {
    "papermill": {
     "duration": 0.028301,
     "end_time": "2021-12-26T00:01:41.027221",
     "exception": false,
     "start_time": "2021-12-26T00:01:40.998920",
     "status": "completed"
    },
    "tags": []
   },
   "source": [
    "<hr/>\n",
    "\n",
    "# 2.\n",
    "\n",
    "Add code to the following cell to swap variables `a` and `b` (so that `a` refers to the object previously referred to by `b` and vice versa)."
   ]
  },
  {
   "cell_type": "code",
   "execution_count": 8,
   "id": "0808f4af",
   "metadata": {
    "execution": {
     "iopub.execute_input": "2021-12-26T00:01:41.086748Z",
     "iopub.status.busy": "2021-12-26T00:01:41.086083Z",
     "iopub.status.idle": "2021-12-26T00:01:41.095415Z",
     "shell.execute_reply": "2021-12-26T00:01:41.095962Z",
     "shell.execute_reply.started": "2021-12-25T23:50:55.451516Z"
    },
    "papermill": {
     "duration": 0.040767,
     "end_time": "2021-12-26T00:01:41.096203",
     "exception": false,
     "start_time": "2021-12-26T00:01:41.055436",
     "status": "completed"
    },
    "tags": []
   },
   "outputs": [
    {
     "data": {
      "application/javascript": [
       "parent.postMessage({\"jupyterEvent\": \"custom.exercise_interaction\", \"data\": {\"outcomeType\": 1, \"valueTowardsCompletion\": 0.25, \"interactionType\": 1, \"questionType\": 2, \"questionId\": \"2_VariableSwap\", \"learnToolsVersion\": \"0.3.4\", \"failureMessage\": \"\", \"exceptionClass\": \"\", \"trace\": \"\"}}, \"*\")"
      ],
      "text/plain": [
       "<IPython.core.display.Javascript object>"
      ]
     },
     "metadata": {},
     "output_type": "display_data"
    },
    {
     "data": {
      "text/markdown": [
       "<span style=\"color:#33cc33\">Correct:</span> \n",
       "\n",
       "The most straightforward solution is to use a third variable to temporarily store one of the old values. e.g.:\n",
       "\n",
       "    tmp = a\n",
       "    a = b\n",
       "    b = tmp\n",
       "\n",
       "If you've read lots of Python code, you might have seen the following trick to swap two variables in one line:\n",
       "\n",
       "    a, b = b, a\n",
       "\n",
       "We'll demystify this bit of Python magic later when we talk about *tuples*."
      ],
      "text/plain": [
       "Correct: \n",
       "\n",
       "The most straightforward solution is to use a third variable to temporarily store one of the old values. e.g.:\n",
       "\n",
       "    tmp = a\n",
       "    a = b\n",
       "    b = tmp\n",
       "\n",
       "If you've read lots of Python code, you might have seen the following trick to swap two variables in one line:\n",
       "\n",
       "    a, b = b, a\n",
       "\n",
       "We'll demystify this bit of Python magic later when we talk about *tuples*."
      ]
     },
     "metadata": {},
     "output_type": "display_data"
    }
   ],
   "source": [
    "########### Setup code - don't touch this part ######################\n",
    "# If you're curious, these are examples of lists. We'll talk about \n",
    "# them in depth a few lessons from now. For now, just know that they're\n",
    "# yet another type of Python object, like int or float.\n",
    "a = [1, 2, 3]\n",
    "b = [3, 2, 1]\n",
    "q2.store_original_ids()\n",
    "######################################################################\n",
    "\n",
    "# Your code goes here. Swap the values to which a and b refer.\n",
    "# If you get stuck, you can always uncomment one or both of the lines in\n",
    "# the next cell for a hint, or to peek at the solution.\n",
    "temp = a\n",
    "a = b\n",
    "b = temp\n",
    "\n",
    "######################################################################\n",
    "\n",
    "# Check your answer\n",
    "q2.check()"
   ]
  },
  {
   "cell_type": "code",
   "execution_count": 9,
   "id": "559f8c85",
   "metadata": {
    "execution": {
     "iopub.execute_input": "2021-12-26T00:01:41.156118Z",
     "iopub.status.busy": "2021-12-26T00:01:41.155352Z",
     "iopub.status.idle": "2021-12-26T00:01:41.158678Z",
     "shell.execute_reply": "2021-12-26T00:01:41.159320Z"
    },
    "papermill": {
     "duration": 0.035902,
     "end_time": "2021-12-26T00:01:41.159522",
     "exception": false,
     "start_time": "2021-12-26T00:01:41.123620",
     "status": "completed"
    },
    "tags": []
   },
   "outputs": [],
   "source": [
    "#q2.hint()"
   ]
  },
  {
   "cell_type": "code",
   "execution_count": 10,
   "id": "bbebfa2d",
   "metadata": {
    "execution": {
     "iopub.execute_input": "2021-12-26T00:01:41.221942Z",
     "iopub.status.busy": "2021-12-26T00:01:41.221342Z",
     "iopub.status.idle": "2021-12-26T00:01:41.224384Z",
     "shell.execute_reply": "2021-12-26T00:01:41.225048Z"
    },
    "papermill": {
     "duration": 0.036277,
     "end_time": "2021-12-26T00:01:41.225248",
     "exception": false,
     "start_time": "2021-12-26T00:01:41.188971",
     "status": "completed"
    },
    "tags": []
   },
   "outputs": [],
   "source": [
    "#q2.solution()"
   ]
  },
  {
   "cell_type": "markdown",
   "id": "d7ee0be9",
   "metadata": {
    "papermill": {
     "duration": 0.028703,
     "end_time": "2021-12-26T00:01:41.283230",
     "exception": false,
     "start_time": "2021-12-26T00:01:41.254527",
     "status": "completed"
    },
    "tags": []
   },
   "source": [
    "<hr/>\n",
    "\n",
    "# 3a.\n",
    "\n",
    "Add parentheses to the following expression so that it evaluates to 1."
   ]
  },
  {
   "cell_type": "code",
   "execution_count": 11,
   "id": "7b78187f",
   "metadata": {
    "execution": {
     "iopub.execute_input": "2021-12-26T00:01:41.345237Z",
     "iopub.status.busy": "2021-12-26T00:01:41.342734Z",
     "iopub.status.idle": "2021-12-26T00:01:41.349897Z",
     "shell.execute_reply": "2021-12-26T00:01:41.350633Z",
     "shell.execute_reply.started": "2021-12-25T23:51:40.533386Z"
    },
    "papermill": {
     "duration": 0.038695,
     "end_time": "2021-12-26T00:01:41.350839",
     "exception": false,
     "start_time": "2021-12-26T00:01:41.312144",
     "status": "completed"
    },
    "tags": []
   },
   "outputs": [
    {
     "data": {
      "text/plain": [
       "1"
      ]
     },
     "execution_count": 11,
     "metadata": {},
     "output_type": "execute_result"
    }
   ],
   "source": [
    "(5 - 3) // 2"
   ]
  },
  {
   "cell_type": "code",
   "execution_count": 12,
   "id": "fb2f1018",
   "metadata": {
    "execution": {
     "iopub.execute_input": "2021-12-26T00:01:41.423988Z",
     "iopub.status.busy": "2021-12-26T00:01:41.423240Z",
     "iopub.status.idle": "2021-12-26T00:01:41.425861Z",
     "shell.execute_reply": "2021-12-26T00:01:41.426416Z"
    },
    "papermill": {
     "duration": 0.039318,
     "end_time": "2021-12-26T00:01:41.426626",
     "exception": false,
     "start_time": "2021-12-26T00:01:41.387308",
     "status": "completed"
    },
    "tags": []
   },
   "outputs": [],
   "source": [
    "#q3.a.hint()"
   ]
  },
  {
   "cell_type": "code",
   "execution_count": 13,
   "id": "cb34c3ac",
   "metadata": {
    "execution": {
     "iopub.execute_input": "2021-12-26T00:01:41.494265Z",
     "iopub.status.busy": "2021-12-26T00:01:41.493530Z",
     "iopub.status.idle": "2021-12-26T00:01:41.500782Z",
     "shell.execute_reply": "2021-12-26T00:01:41.501468Z",
     "shell.execute_reply.started": "2021-12-25T23:51:50.451510Z"
    },
    "papermill": {
     "duration": 0.042591,
     "end_time": "2021-12-26T00:01:41.501638",
     "exception": false,
     "start_time": "2021-12-26T00:01:41.459047",
     "status": "completed"
    },
    "tags": []
   },
   "outputs": [
    {
     "data": {
      "application/javascript": [
       "parent.postMessage({\"jupyterEvent\": \"custom.exercise_interaction\", \"data\": {\"interactionType\": 3, \"questionType\": 4, \"questionId\": \"3.1_ArithmeticParensEasy\", \"learnToolsVersion\": \"0.3.4\", \"valueTowardsCompletion\": 0.0, \"failureMessage\": \"\", \"exceptionClass\": \"\", \"trace\": \"\", \"outcomeType\": 4}}, \"*\")"
      ],
      "text/plain": [
       "<IPython.core.display.Javascript object>"
      ]
     },
     "metadata": {},
     "output_type": "display_data"
    },
    {
     "data": {
      "text/markdown": [
       "<span style=\"color:#33cc99\">Solution:</span> \n",
       "```python\n",
       "(5 - 3) // 2\n",
       "```"
      ],
      "text/plain": [
       "Solution: \n",
       "```python\n",
       "(5 - 3) // 2\n",
       "```"
      ]
     },
     "metadata": {},
     "output_type": "display_data"
    }
   ],
   "source": [
    "# Check your answer (Run this code cell to receive credit!)\n",
    "q3.a.solution()"
   ]
  },
  {
   "cell_type": "markdown",
   "id": "5993ba3b",
   "metadata": {
    "papermill": {
     "duration": 0.03093,
     "end_time": "2021-12-26T00:01:41.564434",
     "exception": false,
     "start_time": "2021-12-26T00:01:41.533504",
     "status": "completed"
    },
    "tags": []
   },
   "source": [
    "# 3b.  <span title=\"A bit spicy\" style=\"color: darkgreen \">🌶️</span>\n",
    "\n",
    "<small>Questions, like this one, marked a spicy pepper are a bit harder.</small>\n",
    "\n",
    "Add parentheses to the following expression so that it evaluates to 0."
   ]
  },
  {
   "cell_type": "code",
   "execution_count": 14,
   "id": "f1eb35e8",
   "metadata": {
    "execution": {
     "iopub.execute_input": "2021-12-26T00:01:41.629207Z",
     "iopub.status.busy": "2021-12-26T00:01:41.628244Z",
     "iopub.status.idle": "2021-12-26T00:01:41.634053Z",
     "shell.execute_reply": "2021-12-26T00:01:41.634638Z",
     "shell.execute_reply.started": "2021-12-25T23:52:51.524374Z"
    },
    "papermill": {
     "duration": 0.03969,
     "end_time": "2021-12-26T00:01:41.634803",
     "exception": false,
     "start_time": "2021-12-26T00:01:41.595113",
     "status": "completed"
    },
    "tags": []
   },
   "outputs": [
    {
     "data": {
      "text/plain": [
       "0"
      ]
     },
     "execution_count": 14,
     "metadata": {},
     "output_type": "execute_result"
    }
   ],
   "source": [
    "8 - (3 * 2) - (1 + 1)"
   ]
  },
  {
   "cell_type": "code",
   "execution_count": 15,
   "id": "9830a760",
   "metadata": {
    "execution": {
     "iopub.execute_input": "2021-12-26T00:01:41.698797Z",
     "iopub.status.busy": "2021-12-26T00:01:41.698188Z",
     "iopub.status.idle": "2021-12-26T00:01:41.701604Z",
     "shell.execute_reply": "2021-12-26T00:01:41.702133Z"
    },
    "papermill": {
     "duration": 0.037384,
     "end_time": "2021-12-26T00:01:41.702321",
     "exception": false,
     "start_time": "2021-12-26T00:01:41.664937",
     "status": "completed"
    },
    "tags": []
   },
   "outputs": [],
   "source": [
    "#q3.b.hint()"
   ]
  },
  {
   "cell_type": "code",
   "execution_count": 16,
   "id": "a83a6051",
   "metadata": {
    "execution": {
     "iopub.execute_input": "2021-12-26T00:01:41.771236Z",
     "iopub.status.busy": "2021-12-26T00:01:41.770540Z",
     "iopub.status.idle": "2021-12-26T00:01:41.775825Z",
     "shell.execute_reply": "2021-12-26T00:01:41.775306Z",
     "shell.execute_reply.started": "2021-12-25T23:52:58.978076Z"
    },
    "papermill": {
     "duration": 0.04222,
     "end_time": "2021-12-26T00:01:41.775961",
     "exception": false,
     "start_time": "2021-12-26T00:01:41.733741",
     "status": "completed"
    },
    "tags": []
   },
   "outputs": [
    {
     "data": {
      "application/javascript": [
       "parent.postMessage({\"jupyterEvent\": \"custom.exercise_interaction\", \"data\": {\"interactionType\": 3, \"questionType\": 4, \"questionId\": \"3.2_ArithmeticParensHard\", \"learnToolsVersion\": \"0.3.4\", \"valueTowardsCompletion\": 0.0, \"failureMessage\": \"\", \"exceptionClass\": \"\", \"trace\": \"\", \"outcomeType\": 4}}, \"*\")"
      ],
      "text/plain": [
       "<IPython.core.display.Javascript object>"
      ]
     },
     "metadata": {},
     "output_type": "display_data"
    },
    {
     "data": {
      "text/markdown": [
       "<span style=\"color:#33cc99\">Solution:</span> `(8 - 3) * (2 - (1 + 1))` is one solution. There may be others."
      ],
      "text/plain": [
       "Solution: `(8 - 3) * (2 - (1 + 1))` is one solution. There may be others."
      ]
     },
     "metadata": {},
     "output_type": "display_data"
    }
   ],
   "source": [
    "# Check your answer (Run this code cell to receive credit!)\n",
    "q3.b.solution()"
   ]
  },
  {
   "cell_type": "markdown",
   "id": "93bc9f02",
   "metadata": {
    "papermill": {
     "duration": 0.030717,
     "end_time": "2021-12-26T00:01:41.837209",
     "exception": false,
     "start_time": "2021-12-26T00:01:41.806492",
     "status": "completed"
    },
    "tags": []
   },
   "source": [
    "<hr/>\n",
    "\n",
    "# 4. \n",
    "Alice, Bob and Carol have agreed to pool their Halloween candy and split it evenly among themselves.\n",
    "For the sake of their friendship, any candies left over will be smashed. For example, if they collectively\n",
    "bring home 91 candies, they'll take 30 each and smash 1.\n",
    "\n",
    "Write an arithmetic expression below to calculate how many candies they must smash for a given haul."
   ]
  },
  {
   "cell_type": "code",
   "execution_count": 17,
   "id": "69f26d87",
   "metadata": {
    "execution": {
     "iopub.execute_input": "2021-12-26T00:01:41.908719Z",
     "iopub.status.busy": "2021-12-26T00:01:41.907706Z",
     "iopub.status.idle": "2021-12-26T00:01:41.913221Z",
     "shell.execute_reply": "2021-12-26T00:01:41.913810Z",
     "shell.execute_reply.started": "2021-12-25T23:58:18.776536Z"
    },
    "papermill": {
     "duration": 0.045483,
     "end_time": "2021-12-26T00:01:41.913974",
     "exception": false,
     "start_time": "2021-12-26T00:01:41.868491",
     "status": "completed"
    },
    "tags": []
   },
   "outputs": [
    {
     "data": {
      "application/javascript": [
       "parent.postMessage({\"jupyterEvent\": \"custom.exercise_interaction\", \"data\": {\"outcomeType\": 1, \"valueTowardsCompletion\": 0.25, \"interactionType\": 1, \"questionType\": 1, \"questionId\": \"4_CandySplitting\", \"learnToolsVersion\": \"0.3.4\", \"failureMessage\": \"\", \"exceptionClass\": \"\", \"trace\": \"\"}}, \"*\")"
      ],
      "text/plain": [
       "<IPython.core.display.Javascript object>"
      ]
     },
     "metadata": {},
     "output_type": "display_data"
    },
    {
     "data": {
      "text/markdown": [
       "<span style=\"color:#33cc33\">Correct</span>"
      ],
      "text/plain": [
       "Correct"
      ]
     },
     "metadata": {},
     "output_type": "display_data"
    }
   ],
   "source": [
    "# Variables representing the number of candies collected by alice, bob, and carol\n",
    "alice_candies = 121\n",
    "bob_candies = 77\n",
    "carol_candies = 109\n",
    "\n",
    "# Your code goes here! Replace the right-hand side of this assignment with an expression\n",
    "# involving alice_candies, bob_candies, and carol_candies\n",
    "total = alice_candies + bob_candies + carol_candies\n",
    "totalDiv = total - (total % 3)\n",
    "alice_candies = totalDiv\n",
    "bob_candies = totalDiv\n",
    "carol_candies = totalDiv\n",
    "to_smash = total % 3\n",
    "\n",
    "# Check your answer\n",
    "q4.check()"
   ]
  },
  {
   "cell_type": "code",
   "execution_count": 18,
   "id": "e2129e25",
   "metadata": {
    "execution": {
     "iopub.execute_input": "2021-12-26T00:01:41.983501Z",
     "iopub.status.busy": "2021-12-26T00:01:41.982641Z",
     "iopub.status.idle": "2021-12-26T00:01:41.991893Z",
     "shell.execute_reply": "2021-12-26T00:01:41.991314Z",
     "shell.execute_reply.started": "2021-12-25T23:58:34.614267Z"
    },
    "papermill": {
     "duration": 0.046408,
     "end_time": "2021-12-26T00:01:41.992083",
     "exception": false,
     "start_time": "2021-12-26T00:01:41.945675",
     "status": "completed"
    },
    "tags": []
   },
   "outputs": [
    {
     "data": {
      "application/javascript": [
       "parent.postMessage({\"jupyterEvent\": \"custom.exercise_interaction\", \"data\": {\"interactionType\": 2, \"questionType\": 1, \"questionId\": \"4_CandySplitting\", \"learnToolsVersion\": \"0.3.4\", \"valueTowardsCompletion\": 0.0, \"failureMessage\": \"\", \"exceptionClass\": \"\", \"trace\": \"\", \"outcomeType\": 4}}, \"*\")"
      ],
      "text/plain": [
       "<IPython.core.display.Javascript object>"
      ]
     },
     "metadata": {},
     "output_type": "display_data"
    },
    {
     "data": {
      "text/markdown": [
       "<span style=\"color:#3366cc\">Hint 1:</span> You'll probably want to use the modulo operator, `%`.\n",
       "(For another hint, call `.hint(2)`)"
      ],
      "text/plain": [
       "Hint 1: You'll probably want to use the modulo operator, `%`.\n",
       "(For another hint, call `.hint(2)`)"
      ]
     },
     "metadata": {},
     "output_type": "display_data"
    },
    {
     "data": {
      "application/javascript": [
       "parent.postMessage({\"jupyterEvent\": \"custom.exercise_interaction\", \"data\": {\"interactionType\": 3, \"questionType\": 1, \"questionId\": \"4_CandySplitting\", \"learnToolsVersion\": \"0.3.4\", \"valueTowardsCompletion\": 0.0, \"failureMessage\": \"\", \"exceptionClass\": \"\", \"trace\": \"\", \"outcomeType\": 4}}, \"*\")"
      ],
      "text/plain": [
       "<IPython.core.display.Javascript object>"
      ]
     },
     "metadata": {},
     "output_type": "display_data"
    },
    {
     "data": {
      "text/markdown": [
       "<span style=\"color:#33cc99\">Solution:</span> \n",
       "```python\n",
       "(alice_candies + bob_candies + carol_candies) % 3\n",
       "```"
      ],
      "text/plain": [
       "Solution: \n",
       "```python\n",
       "(alice_candies + bob_candies + carol_candies) % 3\n",
       "```"
      ]
     },
     "metadata": {},
     "output_type": "display_data"
    }
   ],
   "source": [
    "q4.hint()\n",
    "q4.solution()"
   ]
  },
  {
   "cell_type": "markdown",
   "id": "d2bd7941",
   "metadata": {
    "papermill": {
     "duration": 0.036555,
     "end_time": "2021-12-26T00:01:42.065205",
     "exception": false,
     "start_time": "2021-12-26T00:01:42.028650",
     "status": "completed"
    },
    "tags": []
   },
   "source": [
    "# Keep Going\n",
    "\n",
    "Next up, you'll **[learn to write new functions and understand functions others write](https://www.kaggle.com/colinmorris/functions-and-getting-help)**. This will make you at least 10 times more productive as a Python programmer. "
   ]
  },
  {
   "cell_type": "markdown",
   "id": "9528f2e5",
   "metadata": {
    "papermill": {
     "duration": 0.034768,
     "end_time": "2021-12-26T00:01:42.135665",
     "exception": false,
     "start_time": "2021-12-26T00:01:42.100897",
     "status": "completed"
    },
    "tags": []
   },
   "source": [
    "---\n",
    "\n",
    "\n",
    "\n",
    "\n",
    "*Have questions or comments? Visit the [course discussion forum](https://www.kaggle.com/learn/python/discussion) to chat with other learners.*"
   ]
  }
 ],
 "metadata": {
  "kernelspec": {
   "display_name": "Python 3",
   "language": "python",
   "name": "python3"
  },
  "language_info": {
   "codemirror_mode": {
    "name": "ipython",
    "version": 3
   },
   "file_extension": ".py",
   "mimetype": "text/x-python",
   "name": "python",
   "nbconvert_exporter": "python",
   "pygments_lexer": "ipython3",
   "version": "3.7.12"
  },
  "papermill": {
   "default_parameters": {},
   "duration": 13.620005,
   "end_time": "2021-12-26T00:01:42.980065",
   "environment_variables": {},
   "exception": null,
   "input_path": "__notebook__.ipynb",
   "output_path": "__notebook__.ipynb",
   "parameters": {},
   "start_time": "2021-12-26T00:01:29.360060",
   "version": "2.3.3"
  }
 },
 "nbformat": 4,
 "nbformat_minor": 5
}
