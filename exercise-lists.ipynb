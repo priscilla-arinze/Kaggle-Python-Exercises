{
 "cells": [
  {
   "cell_type": "markdown",
   "id": "b70b39fb",
   "metadata": {
    "papermill": {
     "duration": 0.015038,
     "end_time": "2021-12-31T22:33:54.355114",
     "exception": false,
     "start_time": "2021-12-31T22:33:54.340076",
     "status": "completed"
    },
    "tags": []
   },
   "source": [
    "**This notebook is an exercise in the [Python](https://www.kaggle.com/learn/python) course.  You can reference the tutorial at [this link](https://www.kaggle.com/colinmorris/lists).**\n",
    "\n",
    "---\n"
   ]
  },
  {
   "cell_type": "markdown",
   "id": "6623645c",
   "metadata": {
    "papermill": {
     "duration": 0.013672,
     "end_time": "2021-12-31T22:33:54.383026",
     "exception": false,
     "start_time": "2021-12-31T22:33:54.369354",
     "status": "completed"
    },
    "tags": []
   },
   "source": [
    "Things get more interesting with lists. You'll apply your new knowledge to solve the questions below. Remember to run the following cell first."
   ]
  },
  {
   "cell_type": "code",
   "execution_count": 1,
   "id": "d11efbf9",
   "metadata": {
    "execution": {
     "iopub.execute_input": "2021-12-31T22:33:54.417299Z",
     "iopub.status.busy": "2021-12-31T22:33:54.415517Z",
     "iopub.status.idle": "2021-12-31T22:33:54.458588Z",
     "shell.execute_reply": "2021-12-31T22:33:54.457962Z",
     "shell.execute_reply.started": "2021-12-31T22:13:19.058416Z"
    },
    "papermill": {
     "duration": 0.061739,
     "end_time": "2021-12-31T22:33:54.458787",
     "exception": false,
     "start_time": "2021-12-31T22:33:54.397048",
     "status": "completed"
    },
    "tags": []
   },
   "outputs": [
    {
     "name": "stdout",
     "output_type": "stream",
     "text": [
      "Setup complete.\n"
     ]
    }
   ],
   "source": [
    "from learntools.core import binder; binder.bind(globals())\n",
    "from learntools.python.ex4 import *\n",
    "print('Setup complete.')"
   ]
  },
  {
   "cell_type": "markdown",
   "id": "5ed20257",
   "metadata": {
    "papermill": {
     "duration": 0.013802,
     "end_time": "2021-12-31T22:33:54.487285",
     "exception": false,
     "start_time": "2021-12-31T22:33:54.473483",
     "status": "completed"
    },
    "tags": []
   },
   "source": [
    "# 1.\n",
    "\n",
    "Complete the function below according to its docstring."
   ]
  },
  {
   "cell_type": "code",
   "execution_count": 2,
   "id": "a87a26da",
   "metadata": {
    "execution": {
     "iopub.execute_input": "2021-12-31T22:33:54.521609Z",
     "iopub.status.busy": "2021-12-31T22:33:54.518980Z",
     "iopub.status.idle": "2021-12-31T22:33:54.529261Z",
     "shell.execute_reply": "2021-12-31T22:33:54.529874Z",
     "shell.execute_reply.started": "2021-12-31T22:14:30.135762Z"
    },
    "papermill": {
     "duration": 0.028548,
     "end_time": "2021-12-31T22:33:54.530054",
     "exception": false,
     "start_time": "2021-12-31T22:33:54.501506",
     "status": "completed"
    },
    "tags": []
   },
   "outputs": [
    {
     "data": {
      "application/javascript": [
       "parent.postMessage({\"jupyterEvent\": \"custom.exercise_interaction\", \"data\": {\"outcomeType\": 1, \"valueTowardsCompletion\": 0.2, \"interactionType\": 1, \"questionType\": 2, \"questionId\": \"1_SelectSecondItem\", \"learnToolsVersion\": \"0.3.4\", \"failureMessage\": \"\", \"exceptionClass\": \"\", \"trace\": \"\"}}, \"*\")"
      ],
      "text/plain": [
       "<IPython.core.display.Javascript object>"
      ]
     },
     "metadata": {},
     "output_type": "display_data"
    },
    {
     "data": {
      "text/markdown": [
       "<span style=\"color:#33cc33\">Correct</span>"
      ],
      "text/plain": [
       "Correct"
      ]
     },
     "metadata": {},
     "output_type": "display_data"
    }
   ],
   "source": [
    "def select_second(L):\n",
    "    \"\"\"Return the second element of the given list. If the list has no second\n",
    "    element, return None.\n",
    "    \"\"\"\n",
    "    if(len(L)>1):\n",
    "        return L[1]\n",
    "    else:\n",
    "        return None\n",
    "    pass\n",
    "\n",
    "# Check your answer\n",
    "q1.check()"
   ]
  },
  {
   "cell_type": "code",
   "execution_count": 3,
   "id": "3319116c",
   "metadata": {
    "collapsed": true,
    "execution": {
     "iopub.execute_input": "2021-12-31T22:33:54.565146Z",
     "iopub.status.busy": "2021-12-31T22:33:54.564440Z",
     "iopub.status.idle": "2021-12-31T22:33:54.568416Z",
     "shell.execute_reply": "2021-12-31T22:33:54.567901Z"
    },
    "jupyter": {
     "outputs_hidden": true
    },
    "papermill": {
     "duration": 0.021981,
     "end_time": "2021-12-31T22:33:54.568557",
     "exception": false,
     "start_time": "2021-12-31T22:33:54.546576",
     "status": "completed"
    },
    "tags": []
   },
   "outputs": [],
   "source": [
    "#q1.hint()\n",
    "#q1.solution()"
   ]
  },
  {
   "cell_type": "markdown",
   "id": "6b4fcf73",
   "metadata": {
    "papermill": {
     "duration": 0.014996,
     "end_time": "2021-12-31T22:33:54.599147",
     "exception": false,
     "start_time": "2021-12-31T22:33:54.584151",
     "status": "completed"
    },
    "tags": []
   },
   "source": [
    "# 2.\n",
    "\n",
    "You are analyzing sports teams.  Members of each team are stored in a list. The Coach is the first name in the list, the captain is the second name in the list, and other players are listed after that. \n",
    "These lists are stored in another list, which starts with the best team and proceeds through the list to the worst team last.  Complete the function below to select the **captain** of the worst team."
   ]
  },
  {
   "cell_type": "code",
   "execution_count": 4,
   "id": "c3c63ac1",
   "metadata": {
    "execution": {
     "iopub.execute_input": "2021-12-31T22:33:54.633396Z",
     "iopub.status.busy": "2021-12-31T22:33:54.632416Z",
     "iopub.status.idle": "2021-12-31T22:33:54.640317Z",
     "shell.execute_reply": "2021-12-31T22:33:54.640928Z",
     "shell.execute_reply.started": "2021-12-31T22:15:28.514681Z"
    },
    "papermill": {
     "duration": 0.026728,
     "end_time": "2021-12-31T22:33:54.641092",
     "exception": false,
     "start_time": "2021-12-31T22:33:54.614364",
     "status": "completed"
    },
    "tags": []
   },
   "outputs": [
    {
     "data": {
      "application/javascript": [
       "parent.postMessage({\"jupyterEvent\": \"custom.exercise_interaction\", \"data\": {\"outcomeType\": 1, \"valueTowardsCompletion\": 0.2, \"interactionType\": 1, \"questionType\": 2, \"questionId\": \"2_LosingTeamCaptain\", \"learnToolsVersion\": \"0.3.4\", \"failureMessage\": \"\", \"exceptionClass\": \"\", \"trace\": \"\"}}, \"*\")"
      ],
      "text/plain": [
       "<IPython.core.display.Javascript object>"
      ]
     },
     "metadata": {},
     "output_type": "display_data"
    },
    {
     "data": {
      "text/markdown": [
       "<span style=\"color:#33cc33\">Correct</span>"
      ],
      "text/plain": [
       "Correct"
      ]
     },
     "metadata": {},
     "output_type": "display_data"
    }
   ],
   "source": [
    "def losing_team_captain(teams):\n",
    "    \"\"\"Given a list of teams, where each team is a list of names, return the 2nd player (captain)\n",
    "    from the last listed team\n",
    "    \"\"\"\n",
    "    return teams[-1][1]\n",
    "    pass\n",
    "\n",
    "# Check your answer\n",
    "q2.check()"
   ]
  },
  {
   "cell_type": "code",
   "execution_count": 5,
   "id": "cb813ea9",
   "metadata": {
    "collapsed": true,
    "execution": {
     "iopub.execute_input": "2021-12-31T22:33:54.677325Z",
     "iopub.status.busy": "2021-12-31T22:33:54.676392Z",
     "iopub.status.idle": "2021-12-31T22:33:54.679302Z",
     "shell.execute_reply": "2021-12-31T22:33:54.679893Z"
    },
    "jupyter": {
     "outputs_hidden": true
    },
    "papermill": {
     "duration": 0.022667,
     "end_time": "2021-12-31T22:33:54.680057",
     "exception": false,
     "start_time": "2021-12-31T22:33:54.657390",
     "status": "completed"
    },
    "tags": []
   },
   "outputs": [],
   "source": [
    "#q2.hint()\n",
    "#q2.solution()"
   ]
  },
  {
   "cell_type": "markdown",
   "id": "cc533da2",
   "metadata": {
    "papermill": {
     "duration": 0.016054,
     "end_time": "2021-12-31T22:33:54.712514",
     "exception": false,
     "start_time": "2021-12-31T22:33:54.696460",
     "status": "completed"
    },
    "tags": []
   },
   "source": [
    "# 3.\n",
    "\n",
    "The next iteration of Mario Kart will feature an extra-infuriating new item, the *Purple Shell*. When used, it warps the last place racer into first place and the first place racer into last place. Complete the function below to implement the Purple Shell's effect."
   ]
  },
  {
   "cell_type": "code",
   "execution_count": 6,
   "id": "6c82d94d",
   "metadata": {
    "execution": {
     "iopub.execute_input": "2021-12-31T22:33:54.749664Z",
     "iopub.status.busy": "2021-12-31T22:33:54.748696Z",
     "iopub.status.idle": "2021-12-31T22:33:54.756976Z",
     "shell.execute_reply": "2021-12-31T22:33:54.757544Z",
     "shell.execute_reply.started": "2021-12-31T22:18:57.246414Z"
    },
    "papermill": {
     "duration": 0.028192,
     "end_time": "2021-12-31T22:33:54.757741",
     "exception": false,
     "start_time": "2021-12-31T22:33:54.729549",
     "status": "completed"
    },
    "tags": []
   },
   "outputs": [
    {
     "data": {
      "application/javascript": [
       "parent.postMessage({\"jupyterEvent\": \"custom.exercise_interaction\", \"data\": {\"outcomeType\": 1, \"valueTowardsCompletion\": 0.2, \"interactionType\": 1, \"questionType\": 2, \"questionId\": \"3_PurpleShell\", \"learnToolsVersion\": \"0.3.4\", \"failureMessage\": \"\", \"exceptionClass\": \"\", \"trace\": \"\"}}, \"*\")"
      ],
      "text/plain": [
       "<IPython.core.display.Javascript object>"
      ]
     },
     "metadata": {},
     "output_type": "display_data"
    },
    {
     "data": {
      "text/markdown": [
       "<span style=\"color:#33cc33\">Correct</span>"
      ],
      "text/plain": [
       "Correct"
      ]
     },
     "metadata": {},
     "output_type": "display_data"
    }
   ],
   "source": [
    "def purple_shell(racers):\n",
    "    \"\"\"Given a list of racers, set the first place racer (at the front of the list) to last\n",
    "    place and vice versa.\n",
    "    \n",
    "    >>> r = [\"Mario\", \"Bowser\", \"Luigi\"]\n",
    "    >>> purple_shell(r)\n",
    "    >>> r\n",
    "    [\"Luigi\", \"Bowser\", \"Mario\"]\n",
    "    \"\"\"\n",
    "    x = racers[0]\n",
    "    y = racers[-1]\n",
    "    \n",
    "    racers[0] = y\n",
    "    racers[-1] = x\n",
    "    pass\n",
    "\n",
    "# Check your answer\n",
    "q3.check()"
   ]
  },
  {
   "cell_type": "code",
   "execution_count": 7,
   "id": "daf7fbd7",
   "metadata": {
    "collapsed": true,
    "execution": {
     "iopub.execute_input": "2021-12-31T22:33:54.797207Z",
     "iopub.status.busy": "2021-12-31T22:33:54.796252Z",
     "iopub.status.idle": "2021-12-31T22:33:54.799333Z",
     "shell.execute_reply": "2021-12-31T22:33:54.799896Z"
    },
    "jupyter": {
     "outputs_hidden": true
    },
    "papermill": {
     "duration": 0.02466,
     "end_time": "2021-12-31T22:33:54.800065",
     "exception": false,
     "start_time": "2021-12-31T22:33:54.775405",
     "status": "completed"
    },
    "tags": []
   },
   "outputs": [],
   "source": [
    "#q3.hint()\n",
    "#q3.solution()"
   ]
  },
  {
   "cell_type": "markdown",
   "id": "8118f7f2",
   "metadata": {
    "papermill": {
     "duration": 0.017505,
     "end_time": "2021-12-31T22:33:54.835209",
     "exception": false,
     "start_time": "2021-12-31T22:33:54.817704",
     "status": "completed"
    },
    "tags": []
   },
   "source": [
    "# 4.\n",
    "\n",
    "What are the lengths of the following lists? Fill in the variable `lengths` with your predictions. (Try to make a prediction for each list *without* just calling `len()` on it.)"
   ]
  },
  {
   "cell_type": "code",
   "execution_count": 8,
   "id": "9114b51f",
   "metadata": {
    "execution": {
     "iopub.execute_input": "2021-12-31T22:33:54.878451Z",
     "iopub.status.busy": "2021-12-31T22:33:54.877416Z",
     "iopub.status.idle": "2021-12-31T22:33:54.882402Z",
     "shell.execute_reply": "2021-12-31T22:33:54.883030Z",
     "shell.execute_reply.started": "2021-12-31T22:21:25.425936Z"
    },
    "papermill": {
     "duration": 0.0301,
     "end_time": "2021-12-31T22:33:54.883199",
     "exception": false,
     "start_time": "2021-12-31T22:33:54.853099",
     "status": "completed"
    },
    "tags": []
   },
   "outputs": [
    {
     "data": {
      "application/javascript": [
       "parent.postMessage({\"jupyterEvent\": \"custom.exercise_interaction\", \"data\": {\"outcomeType\": 1, \"valueTowardsCompletion\": 0.2, \"interactionType\": 1, \"questionType\": 1, \"questionId\": \"4_UnderstandLen\", \"learnToolsVersion\": \"0.3.4\", \"failureMessage\": \"\", \"exceptionClass\": \"\", \"trace\": \"\"}}, \"*\")"
      ],
      "text/plain": [
       "<IPython.core.display.Javascript object>"
      ]
     },
     "metadata": {},
     "output_type": "display_data"
    },
    {
     "data": {
      "text/markdown": [
       "<span style=\"color:#33cc33\">Correct:</span> \n",
       "\n",
       "\n",
       "- a: There are three items in this list. Nothing tricky yet.\n",
       "- b: The list `[2, 3]` counts as a single item. It has one item before it. So we have 2 items in the list\n",
       "- c: The empty list has 0 items\n",
       "- d: The expression is the same as the list `[2, 3]`, which has length 2."
      ],
      "text/plain": [
       "Correct: \n",
       "\n",
       "\n",
       "- a: There are three items in this list. Nothing tricky yet.\n",
       "- b: The list `[2, 3]` counts as a single item. It has one item before it. So we have 2 items in the list\n",
       "- c: The empty list has 0 items\n",
       "- d: The expression is the same as the list `[2, 3]`, which has length 2."
      ]
     },
     "metadata": {},
     "output_type": "display_data"
    }
   ],
   "source": [
    "a = [1, 2, 3]\n",
    "b = [1, [2, 3]]\n",
    "c = []\n",
    "d = [1, 2, 3][1:]\n",
    "\n",
    "# Put your predictions in the list below. Lengths should contain 4 numbers, the\n",
    "# first being the length of a, the second being the length of b and so on.\n",
    "lengths = [3,2,0,2]\n",
    "\n",
    "# Check your answer\n",
    "q4.check()"
   ]
  },
  {
   "cell_type": "code",
   "execution_count": 9,
   "id": "76e687b1",
   "metadata": {
    "execution": {
     "iopub.execute_input": "2021-12-31T22:33:54.925055Z",
     "iopub.status.busy": "2021-12-31T22:33:54.923453Z",
     "iopub.status.idle": "2021-12-31T22:33:54.930542Z",
     "shell.execute_reply": "2021-12-31T22:33:54.931100Z",
     "shell.execute_reply.started": "2021-12-31T22:21:04.760122Z"
    },
    "papermill": {
     "duration": 0.029245,
     "end_time": "2021-12-31T22:33:54.931269",
     "exception": false,
     "start_time": "2021-12-31T22:33:54.902024",
     "status": "completed"
    },
    "tags": []
   },
   "outputs": [
    {
     "data": {
      "application/javascript": [
       "parent.postMessage({\"jupyterEvent\": \"custom.exercise_interaction\", \"data\": {\"interactionType\": 3, \"questionType\": 1, \"questionId\": \"4_UnderstandLen\", \"learnToolsVersion\": \"0.3.4\", \"valueTowardsCompletion\": 0.0, \"failureMessage\": \"\", \"exceptionClass\": \"\", \"trace\": \"\", \"outcomeType\": 4}}, \"*\")"
      ],
      "text/plain": [
       "<IPython.core.display.Javascript object>"
      ]
     },
     "metadata": {},
     "output_type": "display_data"
    },
    {
     "data": {
      "text/markdown": [
       "<span style=\"color:#33cc99\">Solution:</span> \n",
       "- a: There are three items in this list. Nothing tricky yet.\n",
       "- b: The list `[2, 3]` counts as a single item. It has one item before it. So we have 2 items in the list\n",
       "- c: The empty list has 0 items\n",
       "- d: The expression is the same as the list `[2, 3]`, which has length 2."
      ],
      "text/plain": [
       "Solution: \n",
       "- a: There are three items in this list. Nothing tricky yet.\n",
       "- b: The list `[2, 3]` counts as a single item. It has one item before it. So we have 2 items in the list\n",
       "- c: The empty list has 0 items\n",
       "- d: The expression is the same as the list `[2, 3]`, which has length 2."
      ]
     },
     "metadata": {},
     "output_type": "display_data"
    }
   ],
   "source": [
    "# line below provides some explanation\n",
    "q4.solution()"
   ]
  },
  {
   "cell_type": "markdown",
   "id": "775adefc",
   "metadata": {
    "papermill": {
     "duration": 0.020184,
     "end_time": "2021-12-31T22:33:54.971825",
     "exception": false,
     "start_time": "2021-12-31T22:33:54.951641",
     "status": "completed"
    },
    "tags": []
   },
   "source": [
    "# 5. <span title=\"A bit spicy\" style=\"color: darkgreen \">🌶️</span>\n",
    "\n",
    "We're using lists to record people who attended our party and what order they arrived in. For example, the following list represents a party with 7 guests, in which Adela showed up first and Ford was the last to arrive:\n",
    "\n",
    "    party_attendees = ['Adela', 'Fleda', 'Owen', 'May', 'Mona', 'Gilbert', 'Ford']\n",
    "\n",
    "A guest is considered 'fashionably late' if they arrived after at least half of the party's guests. However, they must not be the very last guest (that's taking it too far). In the above example, Mona and Gilbert are the only guests who were fashionably late.\n",
    "\n",
    "Complete the function below which takes a list of party attendees as well as a person, and tells us whether that person is fashionably late."
   ]
  },
  {
   "cell_type": "code",
   "execution_count": 10,
   "id": "564ec45b",
   "metadata": {
    "execution": {
     "iopub.execute_input": "2021-12-31T22:33:55.016059Z",
     "iopub.status.busy": "2021-12-31T22:33:55.015061Z",
     "iopub.status.idle": "2021-12-31T22:33:55.024093Z",
     "shell.execute_reply": "2021-12-31T22:33:55.024614Z",
     "shell.execute_reply.started": "2021-12-31T22:32:29.527041Z"
    },
    "papermill": {
     "duration": 0.033156,
     "end_time": "2021-12-31T22:33:55.024796",
     "exception": false,
     "start_time": "2021-12-31T22:33:54.991640",
     "status": "completed"
    },
    "tags": []
   },
   "outputs": [
    {
     "data": {
      "application/javascript": [
       "parent.postMessage({\"jupyterEvent\": \"custom.exercise_interaction\", \"data\": {\"outcomeType\": 1, \"valueTowardsCompletion\": 0.2, \"interactionType\": 1, \"questionType\": 2, \"questionId\": \"5_FashionablyLate\", \"learnToolsVersion\": \"0.3.4\", \"failureMessage\": \"\", \"exceptionClass\": \"\", \"trace\": \"\"}}, \"*\")"
      ],
      "text/plain": [
       "<IPython.core.display.Javascript object>"
      ]
     },
     "metadata": {},
     "output_type": "display_data"
    },
    {
     "data": {
      "text/markdown": [
       "<span style=\"color:#33cc33\">Correct</span>"
      ],
      "text/plain": [
       "Correct"
      ]
     },
     "metadata": {},
     "output_type": "display_data"
    }
   ],
   "source": [
    "def fashionably_late(arrivals, name):\n",
    "    \"\"\"Given an ordered list of arrivals to the party and a name, return whether the guest with that\n",
    "    name was fashionably late.\n",
    "    \"\"\"\n",
    "    totalGuests = len(arrivals)\n",
    "    startingIndexLate = round(totalGuests/2)\n",
    "    lastGuest = totalGuests-1\n",
    "    \n",
    "    if(arrivals.index(name) == lastGuest):\n",
    "        return False\n",
    "    elif(arrivals.index(name) >= startingIndexLate):\n",
    "        return True\n",
    "    else:\n",
    "        return False\n",
    "    pass\n",
    "\n",
    "# Check your answer\n",
    "q5.check()"
   ]
  },
  {
   "cell_type": "code",
   "execution_count": 11,
   "id": "fb6ecddf",
   "metadata": {
    "execution": {
     "iopub.execute_input": "2021-12-31T22:33:55.072182Z",
     "iopub.status.busy": "2021-12-31T22:33:55.069695Z",
     "iopub.status.idle": "2021-12-31T22:33:55.076188Z",
     "shell.execute_reply": "2021-12-31T22:33:55.076685Z",
     "shell.execute_reply.started": "2021-12-31T22:28:55.296630Z"
    },
    "papermill": {
     "duration": 0.031309,
     "end_time": "2021-12-31T22:33:55.076849",
     "exception": false,
     "start_time": "2021-12-31T22:33:55.045540",
     "status": "completed"
    },
    "tags": []
   },
   "outputs": [
    {
     "data": {
      "application/javascript": [
       "parent.postMessage({\"jupyterEvent\": \"custom.exercise_interaction\", \"data\": {\"interactionType\": 2, \"questionType\": 2, \"questionId\": \"5_FashionablyLate\", \"learnToolsVersion\": \"0.3.4\", \"valueTowardsCompletion\": 0.0, \"failureMessage\": \"\", \"exceptionClass\": \"\", \"trace\": \"\", \"outcomeType\": 4}}, \"*\")"
      ],
      "text/plain": [
       "<IPython.core.display.Javascript object>"
      ]
     },
     "metadata": {},
     "output_type": "display_data"
    },
    {
     "data": {
      "text/markdown": [
       "<span style=\"color:#3366cc\">Hint:</span> Use the index method to find when the person arrived. Check whether that is a fashionably late spot given the list length (`len`). Think about 0-indexing"
      ],
      "text/plain": [
       "Hint: Use the index method to find when the person arrived. Check whether that is a fashionably late spot given the list length (`len`). Think about 0-indexing"
      ]
     },
     "metadata": {},
     "output_type": "display_data"
    }
   ],
   "source": [
    "q5.hint()\n",
    "#q5.solution()"
   ]
  },
  {
   "cell_type": "markdown",
   "id": "1fa11bef",
   "metadata": {
    "papermill": {
     "duration": 0.021485,
     "end_time": "2021-12-31T22:33:55.120502",
     "exception": false,
     "start_time": "2021-12-31T22:33:55.099017",
     "status": "completed"
    },
    "tags": []
   },
   "source": [
    "# Keep Going\n",
    "\n",
    "That's it for lists and tuples! Now you have the baseline knowledge to **[learn about loops](https://www.kaggle.com/colinmorris/loops-and-list-comprehensions)**, which is where lists and tuples get really interesting. "
   ]
  },
  {
   "cell_type": "markdown",
   "id": "f0a7a7e8",
   "metadata": {
    "papermill": {
     "duration": 0.022253,
     "end_time": "2021-12-31T22:33:55.164411",
     "exception": false,
     "start_time": "2021-12-31T22:33:55.142158",
     "status": "completed"
    },
    "tags": []
   },
   "source": [
    "---\n",
    "\n",
    "\n",
    "\n",
    "\n",
    "*Have questions or comments? Visit the [course discussion forum](https://www.kaggle.com/learn/python/discussion) to chat with other learners.*"
   ]
  }
 ],
 "metadata": {
  "kernelspec": {
   "display_name": "Python 3",
   "language": "python",
   "name": "python3"
  },
  "language_info": {
   "codemirror_mode": {
    "name": "ipython",
    "version": 3
   },
   "file_extension": ".py",
   "mimetype": "text/x-python",
   "name": "python",
   "nbconvert_exporter": "python",
   "pygments_lexer": "ipython3",
   "version": "3.7.12"
  },
  "papermill": {
   "default_parameters": {},
   "duration": 11.257884,
   "end_time": "2021-12-31T22:33:55.795405",
   "environment_variables": {},
   "exception": null,
   "input_path": "__notebook__.ipynb",
   "output_path": "__notebook__.ipynb",
   "parameters": {},
   "start_time": "2021-12-31T22:33:44.537521",
   "version": "2.3.3"
  }
 },
 "nbformat": 4,
 "nbformat_minor": 5
}
